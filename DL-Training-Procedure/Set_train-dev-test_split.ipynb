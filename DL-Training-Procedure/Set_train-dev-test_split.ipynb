{
  "cells": [
    {
      "cell_type": "code",
      "execution_count": 1,
      "id": "32c521b4",
      "metadata": {},
      "outputs": [],
      "source": [
        "import pandas as pd\n",
        "from config import load_config\n",
        "from sklearn.model_selection import train_test_split"
      ]
    },
    {
      "cell_type": "code",
      "execution_count": 2,
      "id": "6149af14",
      "metadata": {},
      "outputs": [],
      "source": [
        "cfg = load_config('Kaki-cfg.yml')\n",
        "# print(cfg)"
      ]
    },
    {
      "cell_type": "markdown",
      "id": "ab341212",
      "metadata": {},
      "source": [
        "# Method-01: Manual"
      ]
    },
    {
      "cell_type": "code",
      "execution_count": null,
      "id": "efdef38e",
      "metadata": {},
      "outputs": [],
      "source": [
        "df = pd.read_csv(f'{cfg.path.dataset}/metadata.csv')"
      ]
    },
    {
      "cell_type": "code",
      "execution_count": 4,
      "id": "14b89c2a",
      "metadata": {},
      "outputs": [],
      "source": [
        "l = df.shape[0]\n",
        "split = df['split'].values\n",
        "split[0     : l-l//4] = 'train'\n",
        "split[l-l//4: l-l//8] = 'dev'\n",
        "split[l-l//8:       ] = 'test'\n",
        "\n",
        "df['split'] =  split"
      ]
    },
    {
      "cell_type": "code",
      "execution_count": 5,
      "id": "defdd7e5",
      "metadata": {},
      "outputs": [],
      "source": [
        "df.to_csv(f'{cfg.path.dataset}/metadata.csv')"
      ]
    },
    {
      "cell_type": "markdown",
      "id": "abc29e7b",
      "metadata": {},
      "source": [
        "# Method-02: sklearn"
      ]
    },
    {
      "cell_type": "code",
      "execution_count": null,
      "id": "40323703",
      "metadata": {},
      "outputs": [],
      "source": [
        "df = pd.read_csv(f'{cfg.path.dataset}/metadata.csv')"
      ]
    },
    {
      "cell_type": "code",
      "execution_count": null,
      "id": "4e0d8b2c",
      "metadata": {},
      "outputs": [],
      "source": [
        "dist_cols_name = [el for el in list(df.keys()) if 'distance' in el]\n",
        "df['distance'] =  df[dist_cols_name[0]]\n",
        "for col in dist_cols_name:\n",
        "    df['distance'].update(df[col])\n",
        "df['distance'] = df['distance'] * 111\n",
        "\n",
        "step = 30\n",
        "for ii in range(0, int(df['distance'].max()), step):\n",
        "    cond = (ii < df['distance']) &  (df['distance'] <= ii+step)\n",
        "    df.loc[cond, 'distance'] = ii\n",
        "\n",
        "# df['distance'].hist(bins=range(0, 200, step), edgecolor='k', log=True)"
      ]
    },
    {
      "cell_type": "code",
      "execution_count": 89,
      "id": "e853ba62",
      "metadata": {},
      "outputs": [],
      "source": [
        "target_cols = ['source_magnitude',\n",
        "            #    'source_latitude_deg',\n",
        "            #    'source_longitude_deg',\n",
        "            #    'source_depth_km',\n",
        "               'distance']\n",
        "#\n",
        "stratify_keys = []\n",
        "for key in target_cols:\n",
        "    new_key = f'{key}_modif'\n",
        "    df[new_key] = df[key].round(0)\n",
        "    stratify_keys.append(new_key)\n",
        "#\n",
        "for key in stratify_keys:\n",
        "    col = df[key]\n",
        "    cond = col.isna()\n",
        "    df.loc[cond, key] = -1"
      ]
    },
    {
      "cell_type": "code",
      "execution_count": 90,
      "id": "7f9e21ca",
      "metadata": {},
      "outputs": [],
      "source": [
        "train, test = train_test_split(\n",
        "    df, test_size=0.10, random_state=42,\n",
        "    stratify=df[stratify_keys])\n",
        "#\n",
        "df.loc[train.index, 'split'] = 'train'\n",
        "df.loc[test.index, 'split'] = 'test'"
      ]
    },
    {
      "cell_type": "code",
      "execution_count": 91,
      "id": "e74e4242",
      "metadata": {},
      "outputs": [],
      "source": [
        "df_train = df[df['split']=='train']\n",
        "train, dev = train_test_split(\n",
        "    df_train, test_size=0.10, random_state=42,\n",
        "    stratify=df_train[stratify_keys])\n",
        "\n",
        "df.loc[train.index, 'split'] = 'train'\n",
        "df.loc[dev.index, 'split'] = 'dev'"
      ]
    },
    {
      "cell_type": "code",
      "execution_count": 92,
      "id": "203e7e01",
      "metadata": {},
      "outputs": [],
      "source": [
        "df.drop(columns=stratify_keys, inplace=True)"
      ]
    },
    {
      "cell_type": "code",
      "execution_count": 93,
      "id": "ce0a54bf",
      "metadata": {},
      "outputs": [],
      "source": [
        "df.to_csv(f'{cfg.path.dataset}/metadata.csv')"
      ]
    },
    {
      "cell_type": "markdown",
      "id": "7620b73d",
      "metadata": {},
      "source": [
        "# TMP"
      ]
    },
    {
      "cell_type": "code",
      "execution_count": 15,
      "id": "599840ac",
      "metadata": {},
      "outputs": [],
      "source": []
    }
  ],
  "metadata": {
    "colab": {
      "provenance": []
    },
    "kernelspec": {
      "display_name": "Python 3 (ipykernel)",
      "language": "python",
      "name": "python3"
    },
    "language_info": {
      "codemirror_mode": {
        "name": "ipython",
        "version": 3
      },
      "file_extension": ".py",
      "mimetype": "text/x-python",
      "name": "python",
      "nbconvert_exporter": "python",
      "pygments_lexer": "ipython3",
      "version": "3.10.14"
    }
  },
  "nbformat": 4,
  "nbformat_minor": 5
}
