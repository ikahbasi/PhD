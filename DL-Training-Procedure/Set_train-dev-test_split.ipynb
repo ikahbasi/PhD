{
  "cells": [
    {
      "cell_type": "code",
      "execution_count": 1,
      "id": "32c521b4",
      "metadata": {},
      "outputs": [],
      "source": [
        "import pandas as pd\n",
        "from config import load_config"
      ]
    },
    {
      "cell_type": "code",
      "execution_count": null,
      "id": "6149af14",
      "metadata": {},
      "outputs": [],
      "source": [
        "cfg = load_config('Kaki-cfg.yml')\n",
        "print(cfg)"
      ]
    },
    {
      "cell_type": "code",
      "execution_count": null,
      "id": "efdef38e",
      "metadata": {},
      "outputs": [],
      "source": [
        "df = pd.read_csv(f'{cfg.path.dataset}/metadata.csv')"
      ]
    },
    {
      "cell_type": "code",
      "execution_count": 4,
      "id": "14b89c2a",
      "metadata": {},
      "outputs": [],
      "source": [
        "l = df.shape[0]\n",
        "split = df['split'].values\n",
        "split[0     : l-l//4] = 'train'\n",
        "split[l-l//4: l-l//8] = 'dev'\n",
        "split[l-l//8:       ] = 'test'\n",
        "\n",
        "df['split'] =  split"
      ]
    },
    {
      "cell_type": "code",
      "execution_count": 5,
      "id": "defdd7e5",
      "metadata": {},
      "outputs": [],
      "source": [
        "df.to_csv(f'{cfg.path.dataset}/metadata.csv')"
      ]
    }
  ],
  "metadata": {
    "colab": {
      "provenance": []
    },
    "kernelspec": {
      "display_name": "Python 3 (ipykernel)",
      "language": "python",
      "name": "python3"
    },
    "language_info": {
      "codemirror_mode": {
        "name": "ipython",
        "version": 3
      },
      "file_extension": ".py",
      "mimetype": "text/x-python",
      "name": "python",
      "nbconvert_exporter": "python",
      "pygments_lexer": "ipython3",
      "version": "3.10.14"
    }
  },
  "nbformat": 4,
  "nbformat_minor": 5
}
