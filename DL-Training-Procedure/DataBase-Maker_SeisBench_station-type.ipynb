{
 "cells": [
  {
   "cell_type": "markdown",
   "id": "5afc9885",
   "metadata": {
    "id": "5afc9885",
    "pycharm": {
     "name": "#%% md\n"
    }
   },
   "source": [
    "# Creating a dataset\n",
    "\n",
    "This tutorial provides a short example on how to create a SeisBench dataset. Datasets can be created from any event catalog and waveform collection. For this example, we download an event catalog for Switzerland through FDSN. We will then download the associated waveforms through FDSN as well. We use built-in SeisBench functions for writing out the dataset in SeisBench format. In this example notebook we aim for an easy example outlining the principles of dataset creation. There are a few further considerations, in particular, for converting larger datasets, that we outline at the end.\n",
    "\n",
    "**Note:** Some familiarity with obspy and its FDSN client is helpful for this tutorial, but not required."
   ]
  },
  {
   "cell_type": "code",
   "execution_count": 1,
   "id": "a5d5a03f",
   "metadata": {
    "id": "a5d5a03f",
    "pycharm": {
     "name": "#%%\n"
    }
   },
   "outputs": [],
   "source": [
    "import seisbench.data as sbd\n",
    "import seisbench.util as sbu\n",
    "from pathlib import Path\n",
    "from obspy import read_events\n",
    "from obspy import read\n",
    "from obspy import Stream\n",
    "import pandas as pd\n",
    "from config import load_config"
   ]
  },
  {
   "cell_type": "code",
   "execution_count": 2,
   "id": "86d76abb",
   "metadata": {},
   "outputs": [],
   "source": [
    "import warnings\n",
    "warnings.simplefilter('ignore', DeprecationWarning)"
   ]
  },
  {
   "cell_type": "markdown",
   "id": "300ffffa",
   "metadata": {},
   "source": [
    "#### Loading configuration file"
   ]
  },
  {
   "cell_type": "code",
   "execution_count": 3,
   "id": "de598521",
   "metadata": {},
   "outputs": [
    {
     "name": "stdout",
     "output_type": "stream",
     "text": [
      "path: inp: /home/ekarkooti/Documents\n",
      "catalog: /media/ekarkooti/ext4/Kahbasi-PhD/Kaki/Catalog-get-1403-06-10/kaki_all.out\n",
      "stream: /media/ekarkooti/ext4/Kahbasi-PhD/Kaki/raw-gcf-data\n",
      "network_details: /media/ekarkooti/ext4/Kahbasi-PhD/Kaki/Kaki_station-sensor-region-coords.csv\n",
      "out: ./Kaki-Dataset-All_1403-06-12\n",
      "\n",
      "\n"
     ]
    }
   ],
   "source": [
    "cfg = load_config('/home/ekarkooti/ikahbasi-PhD/Dataset/Kaki/Kaki-cfg.yml')\n",
    "print(cfg)"
   ]
  },
  {
   "cell_type": "markdown",
   "id": "91d14a32",
   "metadata": {
    "id": "91d14a32",
    "pycharm": {
     "name": "#%% md\n"
    }
   },
   "source": [
    "#### The event catalog\n",
    "\n",
    "As a first step, we need an event catalog. Here, we are going to use the catalog provided by ETHZ over FDSN. For demonstration purposes, we only use a short time window."
   ]
  },
  {
   "cell_type": "code",
   "execution_count": 4,
   "id": "d087f36c",
   "metadata": {},
   "outputs": [],
   "source": [
    "network_details = pd.read_csv(cfg.path.network_details, dtype=str)\n",
    "network_details.fillna(value='', inplace=True)"
   ]
  },
  {
   "cell_type": "code",
   "execution_count": 5,
   "id": "fe49f98e",
   "metadata": {},
   "outputs": [
    {
     "name": "stderr",
     "output_type": "stream",
     "text": [
      "/home/ekarkooti/Apps/PyEnvs/SeisBench/lib/python3.10/site-packages/obspy/io/nordic/utils.py:184: UserWarning: Lines of type I have not been implemented yet, please submit a development request\n",
      "  warnings.warn(\"Lines of type %s have not been implemented yet, \"\n",
      "/home/ekarkooti/Apps/PyEnvs/SeisBench/lib/python3.10/site-packages/obspy/io/nordic/ellipse.py:93: UserWarning: Can not make data ellipse because covariance matrix is not positive definite: 3.146e+06x[0.32 1][1 0.32]. \n",
      "  warnings.warn(\"Can not make data ellipse because covariance \"\n",
      "/home/ekarkooti/Apps/PyEnvs/SeisBench/lib/python3.10/site-packages/obspy/io/nordic/ellipse.py:93: UserWarning: Can not make data ellipse because covariance matrix is not positive definite: 1.88e+07x[0.05 1][1 0.05]. \n",
      "  warnings.warn(\"Can not make data ellipse because covariance \"\n",
      "/home/ekarkooti/Apps/PyEnvs/SeisBench/lib/python3.10/site-packages/obspy/io/nordic/ellipse.py:93: UserWarning: Can not make data ellipse because covariance matrix is not positive definite: -1.82e+07x[-0.05 1][1 -0.02]. \n",
      "  warnings.warn(\"Can not make data ellipse because covariance \"\n",
      "/home/ekarkooti/Apps/PyEnvs/SeisBench/lib/python3.10/site-packages/obspy/io/nordic/ellipse.py:93: UserWarning: Can not make data ellipse because covariance matrix is not positive definite: -1.681e+08x[-0.01 1][1 -0.01]. \n",
      "  warnings.warn(\"Can not make data ellipse because covariance \"\n",
      "/home/ekarkooti/Apps/PyEnvs/SeisBench/lib/python3.10/site-packages/obspy/io/nordic/ellipse.py:93: UserWarning: Can not make data ellipse because covariance matrix is not positive definite: -2.276e+07x[-0.04 1][1 -0.04]. \n",
      "  warnings.warn(\"Can not make data ellipse because covariance \"\n",
      "/home/ekarkooti/Apps/PyEnvs/SeisBench/lib/python3.10/site-packages/obspy/io/nordic/ellipse.py:93: UserWarning: Can not make data ellipse because covariance matrix is not positive definite: -1.219e+06x[-0.69 1][1 -0.82]. \n",
      "  warnings.warn(\"Can not make data ellipse because covariance \"\n",
      "/home/ekarkooti/Apps/PyEnvs/SeisBench/lib/python3.10/site-packages/obspy/io/nordic/ellipse.py:93: UserWarning: Can not make data ellipse because covariance matrix is not positive definite: 1.261e+07x[0.08 1][1 0.08]. \n",
      "  warnings.warn(\"Can not make data ellipse because covariance \"\n"
     ]
    }
   ],
   "source": [
    "catalog = read_events(cfg.path.catalog)\n",
    "catalog = [ev for ev in catalog if ev.picks != []]\n",
    "catalog = catalog[:50]"
   ]
  },
  {
   "cell_type": "code",
   "execution_count": 6,
   "id": "680219df",
   "metadata": {},
   "outputs": [
    {
     "name": "stdout",
     "output_type": "stream",
     "text": [
      "50\n",
      "[Event(resource_id=ResourceIdentifier(id=\"smi:local/1938a634-a54e-4bdc-8322-f565c27f3f94\"), event_type='earthquake', event_type_certainty='suspected', creation_info=CreationInfo(agency_id='SLT'), preferred_origin_id=ResourceIdentifier(id=\"smi:local/721bd31f-de98-4698-a013-e43b88aae5ed\"), preferred_magnitude_id=ResourceIdentifier(id=\"smi:local/345fe20a-04d0-4a30-9b5c-1772558e2602\")), Event(resource_id=ResourceIdentifier(id=\"smi:local/690990bf-3b41-4d20-a11e-b7b7eb2d5d14\"), event_type='earthquake', event_type_certainty='suspected', creation_info=CreationInfo(agency_id='SLT'), preferred_origin_id=ResourceIdentifier(id=\"smi:local/8158ca0f-0e87-4de0-86d2-98c7d3907747\"), preferred_magnitude_id=ResourceIdentifier(id=\"smi:local/f8831b4a-f464-464e-9561-5e73e6e26f0c\")), Event(resource_id=ResourceIdentifier(id=\"smi:local/f551b3e3-399d-4d7e-ac50-430d3bf71167\"), event_type='earthquake', event_type_certainty='suspected', creation_info=CreationInfo(agency_id='SLT'), preferred_origin_id=ResourceIdentifier(id=\"smi:local/01538256-f6b8-433a-8b1d-f09a4dddd71f\"), preferred_magnitude_id=ResourceIdentifier(id=\"smi:local/444ec472-61fe-4390-a28d-ef7fae64aa66\")), Event(resource_id=ResourceIdentifier(id=\"smi:local/c9b47e2b-0fff-478e-8078-db9b58560e95\"), event_type='earthquake', event_type_certainty='suspected', creation_info=CreationInfo(agency_id='SLT'), preferred_origin_id=ResourceIdentifier(id=\"smi:local/4bd83e99-111c-4b18-89da-d087ab88b722\"), preferred_magnitude_id=ResourceIdentifier(id=\"smi:local/20221551-11c8-446a-b93c-7bd27ab6c20b\")), Event(resource_id=ResourceIdentifier(id=\"smi:local/18a174af-dd14-4807-a3d8-caf82256021e\"), event_type='earthquake', event_type_certainty='suspected', creation_info=CreationInfo(agency_id='SLT'), preferred_origin_id=ResourceIdentifier(id=\"smi:local/eed60a2b-05ad-4180-b879-7dfaea740121\"), preferred_magnitude_id=ResourceIdentifier(id=\"smi:local/7cb4410a-5ff3-4f4e-aa83-e92a2fc11d2a\")), Event(resource_id=ResourceIdentifier(id=\"smi:local/f09d7b41-ff30-425a-bc3a-ea1111ec8b8c\"), event_type='earthquake', event_type_certainty='suspected', creation_info=CreationInfo(agency_id='SLT'), preferred_origin_id=ResourceIdentifier(id=\"smi:local/ffcb8265-102e-40e8-97e3-bab5116ba6dd\"), preferred_magnitude_id=ResourceIdentifier(id=\"smi:local/f4a528d0-9e91-4f19-aba9-ee803168f77e\")), Event(resource_id=ResourceIdentifier(id=\"smi:local/13b44b86-e7a8-4b96-86c1-44b70c1797da\"), event_type='earthquake', event_type_certainty='suspected', creation_info=CreationInfo(agency_id='SLT'), preferred_origin_id=ResourceIdentifier(id=\"smi:local/3ece2af2-b070-4be3-9724-73d33fd4ceaa\"), preferred_magnitude_id=ResourceIdentifier(id=\"smi:local/b3a22407-051c-401e-bae8-1d30b84a2ca6\")), Event(resource_id=ResourceIdentifier(id=\"smi:local/b1919841-bcc3-4bd9-ab22-d451136918a5\"), event_type='earthquake', event_type_certainty='suspected', creation_info=CreationInfo(agency_id='SLT'), preferred_origin_id=ResourceIdentifier(id=\"smi:local/5c35898b-8cfc-4ae5-93ae-4f83b67233d0\"), preferred_magnitude_id=ResourceIdentifier(id=\"smi:local/0ed6eba9-ca07-4172-b684-a5de094361a1\")), Event(resource_id=ResourceIdentifier(id=\"smi:local/ff53d7a9-fe07-4f22-ae8d-6035c0a066eb\"), event_type='earthquake', event_type_certainty='suspected', creation_info=CreationInfo(agency_id='SLT'), preferred_origin_id=ResourceIdentifier(id=\"smi:local/56e237e7-48e9-4170-925d-c9a2fdf1656c\"), preferred_magnitude_id=ResourceIdentifier(id=\"smi:local/c494d583-2a65-49ab-b6bd-b481b6be68fa\")), Event(resource_id=ResourceIdentifier(id=\"smi:local/e204eb8a-c9cd-41e8-8255-5244fae090ea\"), event_type='earthquake', event_type_certainty='suspected', creation_info=CreationInfo(agency_id='SLT'), preferred_origin_id=ResourceIdentifier(id=\"smi:local/faf06a01-53be-4df4-9aa5-1f84bd49f9b4\"), preferred_magnitude_id=ResourceIdentifier(id=\"smi:local/d76662aa-24f3-4fdb-8521-474ad1d56970\")), Event(resource_id=ResourceIdentifier(id=\"smi:local/8db4e11a-1c2b-4d32-9759-fa421793e82d\"), event_type='earthquake', event_type_certainty='suspected', creation_info=CreationInfo(agency_id='SLT'), preferred_origin_id=ResourceIdentifier(id=\"smi:local/180cf8bd-d441-44b3-bd0f-9cf9b9dccb5b\"), preferred_magnitude_id=ResourceIdentifier(id=\"smi:local/cd0812b4-b4fd-4e44-9ea1-be6572f0fc1f\")), Event(resource_id=ResourceIdentifier(id=\"smi:local/7c06010d-372d-4be9-865c-204572f8dc94\"), event_type='earthquake', event_type_certainty='suspected', creation_info=CreationInfo(agency_id='SLT'), preferred_origin_id=ResourceIdentifier(id=\"smi:local/c46062ef-1707-4af2-a9ad-ff89f9d42ba9\"), preferred_magnitude_id=ResourceIdentifier(id=\"smi:local/db4543cc-91b0-45a4-bbe1-df4f081ab289\")), Event(resource_id=ResourceIdentifier(id=\"smi:local/f35e98ef-4cb3-4e8a-9064-93ac32045df6\"), event_type='earthquake', event_type_certainty='suspected', creation_info=CreationInfo(agency_id='SLT'), preferred_origin_id=ResourceIdentifier(id=\"smi:local/fc375b87-f054-4053-a777-693849baa7d9\"), preferred_magnitude_id=ResourceIdentifier(id=\"smi:local/58b8b9ed-4e8b-41a6-bee8-44446d8fa281\")), Event(resource_id=ResourceIdentifier(id=\"smi:local/67101881-01d4-4caa-b0e1-ed68b3b5c5ba\"), event_type='earthquake', event_type_certainty='suspected', creation_info=CreationInfo(agency_id='SLT'), preferred_origin_id=ResourceIdentifier(id=\"smi:local/ff663086-f3ce-4267-beb7-348226606d1a\"), preferred_magnitude_id=ResourceIdentifier(id=\"smi:local/0e7116f8-bc13-4548-b835-4714f66f079e\")), Event(resource_id=ResourceIdentifier(id=\"smi:local/bb0096c1-ed5a-4a2c-918f-5d3ae3503d2e\"), event_type='earthquake', event_type_certainty='suspected', creation_info=CreationInfo(agency_id='SLT'), preferred_origin_id=ResourceIdentifier(id=\"smi:local/1541930d-c638-424d-9590-ef6b94ad6ad9\"), preferred_magnitude_id=ResourceIdentifier(id=\"smi:local/10746fa2-95fd-4409-a0a6-80f6e4373e02\")), Event(resource_id=ResourceIdentifier(id=\"smi:local/b085cec4-31f3-42cd-b499-d34f53b42938\"), event_type='earthquake', event_type_certainty='suspected', creation_info=CreationInfo(agency_id='SLT'), preferred_origin_id=ResourceIdentifier(id=\"smi:local/a7939a4a-69ea-4011-ba50-392b0da526bf\"), preferred_magnitude_id=ResourceIdentifier(id=\"smi:local/1f026d54-ab89-4365-838c-7048d84687e8\")), Event(resource_id=ResourceIdentifier(id=\"smi:local/6acf9838-cd02-4b42-9014-a04ebb410084\"), event_type='earthquake', event_type_certainty='suspected', creation_info=CreationInfo(agency_id='SLT'), preferred_origin_id=ResourceIdentifier(id=\"smi:local/da023f1d-a1c7-4baf-921c-d065c81408e4\"), preferred_magnitude_id=ResourceIdentifier(id=\"smi:local/f9917f53-c2c3-4355-9639-59ffae4b9190\")), Event(resource_id=ResourceIdentifier(id=\"smi:local/e319df1f-4a12-402c-ab7f-cd402e94cb84\"), event_type='earthquake', event_type_certainty='suspected', creation_info=CreationInfo(agency_id='SLT'), preferred_origin_id=ResourceIdentifier(id=\"smi:local/1de08c47-1e77-46b7-a883-746e0cdb17ac\"), preferred_magnitude_id=ResourceIdentifier(id=\"smi:local/b3d2f1de-f440-442d-afa6-53fef3b63c50\")), Event(resource_id=ResourceIdentifier(id=\"smi:local/e5d702c1-344d-4c44-80ea-63c2aa70ed84\"), event_type='earthquake', event_type_certainty='suspected', creation_info=CreationInfo(agency_id='SLT'), preferred_origin_id=ResourceIdentifier(id=\"smi:local/3a05813b-7eeb-423a-ad95-7900da8d595f\"), preferred_magnitude_id=ResourceIdentifier(id=\"smi:local/871f0141-1bfe-418e-a064-6c64ee34e5f1\")), Event(resource_id=ResourceIdentifier(id=\"smi:local/2c49abae-2c8f-423b-a66a-9532962fe339\"), event_type='earthquake', event_type_certainty='suspected', creation_info=CreationInfo(agency_id='SLT'), preferred_origin_id=ResourceIdentifier(id=\"smi:local/04c474aa-989b-42de-af42-b79fffb3af8e\"), preferred_magnitude_id=ResourceIdentifier(id=\"smi:local/45d40146-04aa-4542-9e79-9ebc2f4878a3\")), Event(resource_id=ResourceIdentifier(id=\"smi:local/4c0a441f-28f0-4cbc-802a-1a69925d7d2a\"), event_type='earthquake', event_type_certainty='suspected', creation_info=CreationInfo(agency_id='SLT'), preferred_origin_id=ResourceIdentifier(id=\"smi:local/e626859f-5e02-4e1e-bf2e-7bf65e3e770f\"), preferred_magnitude_id=ResourceIdentifier(id=\"smi:local/44ce1c70-ac7b-4656-b1a6-5bce26f78078\")), Event(resource_id=ResourceIdentifier(id=\"smi:local/764d8ed4-7c82-45a9-aa8f-5949be633c57\"), event_type='earthquake', event_type_certainty='suspected', creation_info=CreationInfo(agency_id='SLT'), preferred_origin_id=ResourceIdentifier(id=\"smi:local/82f09c6b-943f-402c-9deb-2d1f87ed7163\"), preferred_magnitude_id=ResourceIdentifier(id=\"smi:local/1f85700a-634f-4ad0-ac66-ca1ed92ac975\")), Event(resource_id=ResourceIdentifier(id=\"smi:local/0e3579c3-2f0f-46d6-9062-5f792f2308b9\"), event_type='earthquake', event_type_certainty='suspected', creation_info=CreationInfo(agency_id='SLT'), preferred_origin_id=ResourceIdentifier(id=\"smi:local/c7c36797-a839-4114-8c2d-fb7b226abf58\"), preferred_magnitude_id=ResourceIdentifier(id=\"smi:local/a0236bfc-4bde-4ee8-82af-21513b6b27aa\")), Event(resource_id=ResourceIdentifier(id=\"smi:local/a91322eb-60e9-482b-aecc-8a250e28b999\"), event_type='earthquake', event_type_certainty='suspected', creation_info=CreationInfo(agency_id='SLT'), preferred_origin_id=ResourceIdentifier(id=\"smi:local/2ca21e81-6a22-49f4-b971-d95738e2804f\"), preferred_magnitude_id=ResourceIdentifier(id=\"smi:local/acdbcfed-64a6-46ce-9115-3a7d04466974\")), Event(resource_id=ResourceIdentifier(id=\"smi:local/84ca8148-375c-45f6-9639-c45b5fa66e36\"), event_type='earthquake', event_type_certainty='suspected', creation_info=CreationInfo(agency_id='SLT'), preferred_origin_id=ResourceIdentifier(id=\"smi:local/89b2b146-1cdb-4cdf-8fa7-80bf34657f86\"), preferred_magnitude_id=ResourceIdentifier(id=\"smi:local/b2d5faab-81a7-42f3-9920-2b95809b642e\")), Event(resource_id=ResourceIdentifier(id=\"smi:local/60098bad-9221-408f-8850-c1b795c53db9\"), event_type='earthquake', event_type_certainty='suspected', creation_info=CreationInfo(agency_id='SLT'), preferred_origin_id=ResourceIdentifier(id=\"smi:local/d277348e-9161-4f52-bb4c-21a4a70edab7\"), preferred_magnitude_id=ResourceIdentifier(id=\"smi:local/eef2bd07-6a0d-4ec3-ad47-5454b09d2f95\")), Event(resource_id=ResourceIdentifier(id=\"smi:local/f1435ec3-95c1-478a-b1b7-2fe348588995\"), event_type='earthquake', event_type_certainty='suspected', creation_info=CreationInfo(agency_id='SLT'), preferred_origin_id=ResourceIdentifier(id=\"smi:local/133aaad3-4900-4cd0-82aa-e8f8a286f831\"), preferred_magnitude_id=ResourceIdentifier(id=\"smi:local/870f598e-0ea4-426c-943c-9d747570b2be\")), Event(resource_id=ResourceIdentifier(id=\"smi:local/1fab0cd7-dee8-4653-b56f-19b2fc94046a\"), event_type='earthquake', event_type_certainty='suspected', creation_info=CreationInfo(agency_id='SLT'), preferred_origin_id=ResourceIdentifier(id=\"smi:local/a97d87b3-6301-4920-95bd-423aa84c0a1c\"), preferred_magnitude_id=ResourceIdentifier(id=\"smi:local/71426a7b-b6a9-441b-89b3-e16c7a2112db\")), Event(resource_id=ResourceIdentifier(id=\"smi:local/e645959d-d95f-41ae-8349-9eeaa0c73add\"), event_type='earthquake', event_type_certainty='suspected', creation_info=CreationInfo(agency_id='SLT'), preferred_origin_id=ResourceIdentifier(id=\"smi:local/105fa0aa-6f78-4d50-8069-2a9502284824\"), preferred_magnitude_id=ResourceIdentifier(id=\"smi:local/d4ad861d-26a1-40d3-88ea-bf0da25e60dd\")), Event(resource_id=ResourceIdentifier(id=\"smi:local/c35d34a5-1016-4ffa-bc23-53396fa738a4\"), event_type='earthquake', event_type_certainty='suspected', creation_info=CreationInfo(agency_id='SLT'), preferred_origin_id=ResourceIdentifier(id=\"smi:local/1448ce0f-6c02-42b9-86d4-981e7ddc27e4\"), preferred_magnitude_id=ResourceIdentifier(id=\"smi:local/390e4190-2224-4b37-8412-2bf17f244e6e\")), Event(resource_id=ResourceIdentifier(id=\"smi:local/7387b0e6-52cd-4f80-8bae-aa750ed305ae\"), event_type='earthquake', event_type_certainty='suspected', creation_info=CreationInfo(agency_id='SLT'), preferred_origin_id=ResourceIdentifier(id=\"smi:local/1397a3d8-f3c6-4473-87a3-aca7b1d225ad\"), preferred_magnitude_id=ResourceIdentifier(id=\"smi:local/54f5c0bf-1922-4696-9a09-955ee8595356\")), Event(resource_id=ResourceIdentifier(id=\"smi:local/571e241b-f754-4c83-9be7-2e2c067da114\"), event_type='earthquake', event_type_certainty='suspected', creation_info=CreationInfo(agency_id='SLT'), preferred_origin_id=ResourceIdentifier(id=\"smi:local/582f4124-7d94-4368-beaf-e2b750a61e73\"), preferred_magnitude_id=ResourceIdentifier(id=\"smi:local/ea24108e-1354-45cc-9c43-d03615e7469b\")), Event(resource_id=ResourceIdentifier(id=\"smi:local/7e8bc0a6-e97f-47b1-b390-24518f23bc08\"), event_type='earthquake', event_type_certainty='suspected', creation_info=CreationInfo(agency_id='SLT'), preferred_origin_id=ResourceIdentifier(id=\"smi:local/e1109d1d-8c9e-4335-9216-70d9ca839dcf\"), preferred_magnitude_id=ResourceIdentifier(id=\"smi:local/80646a83-a148-4946-bb44-fd1f019e0c86\")), Event(resource_id=ResourceIdentifier(id=\"smi:local/ed8dbfa0-1134-4aa8-89ad-88bd98d587f1\"), event_type='earthquake', event_type_certainty='suspected', creation_info=CreationInfo(agency_id='SLT'), preferred_origin_id=ResourceIdentifier(id=\"smi:local/ddbbd8bf-8d0f-4c48-8cbc-83cfcfbaa868\"), preferred_magnitude_id=ResourceIdentifier(id=\"smi:local/0c622269-d0fd-44eb-b789-aef9c6e3f615\")), Event(resource_id=ResourceIdentifier(id=\"smi:local/15120d01-0039-4dbe-a36f-586e2b7ce99e\"), event_type='earthquake', event_type_certainty='suspected', creation_info=CreationInfo(agency_id='SLT'), preferred_origin_id=ResourceIdentifier(id=\"smi:local/083f1f46-f873-4ef7-9a49-69b307c444bf\"), preferred_magnitude_id=ResourceIdentifier(id=\"smi:local/e8708fb1-2519-4b85-b9c4-ec5885593d33\")), Event(resource_id=ResourceIdentifier(id=\"smi:local/5a074872-4e07-4240-bcb5-61a31ff2db96\"), event_type='earthquake', event_type_certainty='suspected', creation_info=CreationInfo(agency_id='SLT'), preferred_origin_id=ResourceIdentifier(id=\"smi:local/acd5fcf7-0330-43aa-8c14-1ee013fcebc3\"), preferred_magnitude_id=ResourceIdentifier(id=\"smi:local/1e45c44b-114f-4762-ba12-229cd6886821\")), Event(resource_id=ResourceIdentifier(id=\"smi:local/bcd7f6ad-5fbe-4d8a-8d91-1d3863cfc0df\"), event_type='earthquake', event_type_certainty='suspected', creation_info=CreationInfo(agency_id='SLT'), preferred_origin_id=ResourceIdentifier(id=\"smi:local/9ecf1d55-d879-4443-80c2-c69559d3e91d\"), preferred_magnitude_id=ResourceIdentifier(id=\"smi:local/94b48aae-e2df-40ba-949c-1f8fda2d26a2\")), Event(resource_id=ResourceIdentifier(id=\"smi:local/6f059e24-f0c9-480c-b33f-f3763b1a503b\"), event_type='earthquake', event_type_certainty='suspected', creation_info=CreationInfo(agency_id='SLT'), preferred_origin_id=ResourceIdentifier(id=\"smi:local/ea299367-520c-4147-8b8a-d11a7c6a57e4\"), preferred_magnitude_id=ResourceIdentifier(id=\"smi:local/14cf6362-82a1-4d4c-a87d-250aee2b8111\")), Event(resource_id=ResourceIdentifier(id=\"smi:local/399a6dd9-2424-4529-a70b-78a7932145fa\"), event_type='earthquake', event_type_certainty='suspected', creation_info=CreationInfo(agency_id='SLT'), preferred_origin_id=ResourceIdentifier(id=\"smi:local/a8bc06bd-2648-4070-863d-c15946d396e7\"), preferred_magnitude_id=ResourceIdentifier(id=\"smi:local/67d09271-245b-4595-9ab7-084b1f72b35b\")), Event(resource_id=ResourceIdentifier(id=\"smi:local/6d4dfb37-1e57-4592-b184-08406aefac64\"), event_type='earthquake', event_type_certainty='suspected', creation_info=CreationInfo(agency_id='SLT'), preferred_origin_id=ResourceIdentifier(id=\"smi:local/7ca9c75c-6147-4fb3-8c13-30a0bf032a06\"), preferred_magnitude_id=ResourceIdentifier(id=\"smi:local/2cfb52b7-0551-44ac-841f-3c499c188373\")), Event(resource_id=ResourceIdentifier(id=\"smi:local/12c83ccc-c5a9-4ac1-8da1-42adf7b3daa6\"), event_type='earthquake', event_type_certainty='suspected', creation_info=CreationInfo(agency_id='SLT'), preferred_origin_id=ResourceIdentifier(id=\"smi:local/2061996a-e56c-4c79-aa1c-208c6b6e4694\"), preferred_magnitude_id=ResourceIdentifier(id=\"smi:local/6ea69fbc-5882-4339-93ec-dc01fb95b93a\")), Event(resource_id=ResourceIdentifier(id=\"smi:local/2054bbb0-89f8-4729-a9af-7e19736bf796\"), event_type='earthquake', event_type_certainty='suspected', creation_info=CreationInfo(agency_id='SLT'), preferred_origin_id=ResourceIdentifier(id=\"smi:local/3c786137-240d-4fb7-8c42-852a2c566501\"), preferred_magnitude_id=ResourceIdentifier(id=\"smi:local/0a77f17a-a6b1-4321-8083-0fbf0f7464be\")), Event(resource_id=ResourceIdentifier(id=\"smi:local/22e1ce70-8267-4671-8054-563e58a0ee11\"), event_type='earthquake', event_type_certainty='suspected', creation_info=CreationInfo(agency_id='SLT'), preferred_origin_id=ResourceIdentifier(id=\"smi:local/a8d66a2d-7045-496d-b0e2-7a5b9f52d46c\"), preferred_magnitude_id=ResourceIdentifier(id=\"smi:local/82c534f8-3d63-4ff7-a236-83abf38fa9bb\")), Event(resource_id=ResourceIdentifier(id=\"smi:local/ffeae9b8-54f3-491b-9288-10d7a4dcc81b\"), event_type='earthquake', event_type_certainty='suspected', creation_info=CreationInfo(agency_id='SLT'), preferred_origin_id=ResourceIdentifier(id=\"smi:local/c71c3ff7-2a69-4882-8da3-7692e3d8c704\"), preferred_magnitude_id=ResourceIdentifier(id=\"smi:local/6c8c45e4-e335-4aa6-91d8-4a36dbf43a32\")), Event(resource_id=ResourceIdentifier(id=\"smi:local/bb53ae7a-5c66-4342-8cf4-206698f4221f\"), event_type='earthquake', event_type_certainty='suspected', creation_info=CreationInfo(agency_id='SLT'), preferred_origin_id=ResourceIdentifier(id=\"smi:local/83a434ac-4076-45bf-94a8-1a400968bb32\"), preferred_magnitude_id=ResourceIdentifier(id=\"smi:local/107cc413-1e4e-46ee-a1ef-1f0c62592ab8\")), Event(resource_id=ResourceIdentifier(id=\"smi:local/de3fb0a6-66e4-4fc5-a121-1507f403aecb\"), event_type='earthquake', event_type_certainty='suspected', creation_info=CreationInfo(agency_id='SLT'), preferred_origin_id=ResourceIdentifier(id=\"smi:local/3d70a1aa-5ec8-456c-9cb9-0ee2beeb82df\"), preferred_magnitude_id=ResourceIdentifier(id=\"smi:local/d957b6b2-7489-464c-b18b-e260468d48b2\")), Event(resource_id=ResourceIdentifier(id=\"smi:local/29cb847c-e99f-4cac-b87a-b32900168d16\"), event_type='earthquake', event_type_certainty='suspected', creation_info=CreationInfo(agency_id='SLT'), preferred_origin_id=ResourceIdentifier(id=\"smi:local/385d2e28-8600-49a6-8e2f-3e0ccb6d71a7\"), preferred_magnitude_id=ResourceIdentifier(id=\"smi:local/95d767e9-d47f-47a6-ac65-be7c0ce011ae\")), Event(resource_id=ResourceIdentifier(id=\"smi:local/cb6aa09d-d9d7-4a79-8d2a-5afef02c02ab\"), event_type='earthquake', event_type_certainty='suspected', creation_info=CreationInfo(agency_id='SLT'), preferred_origin_id=ResourceIdentifier(id=\"smi:local/9dc3b139-e066-4262-8e2a-e91263210a8a\"), preferred_magnitude_id=ResourceIdentifier(id=\"smi:local/500b0c74-53bc-4403-ae41-c8e273dadc24\")), Event(resource_id=ResourceIdentifier(id=\"smi:local/76206375-31fc-4868-93e9-7968a45206a4\"), event_type='earthquake', event_type_certainty='suspected', creation_info=CreationInfo(agency_id='SLT'), preferred_origin_id=ResourceIdentifier(id=\"smi:local/bc8ea940-c884-4b0d-b3cb-a1b2d45f2d55\"), preferred_magnitude_id=ResourceIdentifier(id=\"smi:local/e11c4844-8abe-4b59-bcfa-f2b015d2e9b3\")), Event(resource_id=ResourceIdentifier(id=\"smi:local/8d3fd075-119d-4ec8-826c-8ab9ac5ecd18\"), event_type='earthquake', event_type_certainty='suspected', creation_info=CreationInfo(agency_id='SLT'), preferred_origin_id=ResourceIdentifier(id=\"smi:local/20e4a92d-981b-4931-b06a-6946e643c476\"), preferred_magnitude_id=ResourceIdentifier(id=\"smi:local/51f348e4-5d8c-41dd-a12f-2f23d3d8cfb4\"))]\n",
      "Pg 279\n",
      "Sg 175\n",
      "AML 210\n"
     ]
    }
   ],
   "source": [
    "print(len(catalog), catalog, sep='\\n') # print(catalog.__str__(print_all=True))\n",
    "\n",
    "lst = []\n",
    "for ev in catalog:\n",
    "    for pick in ev.picks:\n",
    "        lst.append(pick.phase_hint)\n",
    "\n",
    "for el in set(lst):\n",
    "    print(el, lst.count(el))"
   ]
  },
  {
   "cell_type": "markdown",
   "id": "29aaef76",
   "metadata": {
    "id": "29aaef76",
    "pycharm": {
     "name": "#%% md\n"
    }
   },
   "source": [
    "#### Extracting the event parameters\n",
    "\n",
    "From the catalog, we extract the event parameters and store them into a dictionary. Here, we only extract a few basic parameters on the source and its magnitude - if available. In addition, we define the split of the dataset into training/development/test partitions. We visualize one example."
   ]
  },
  {
   "cell_type": "code",
   "execution_count": 7,
   "id": "18becd85",
   "metadata": {
    "id": "18becd85",
    "outputId": "80b15fee-195d-468a-fa9f-e80e368c21fa",
    "pycharm": {
     "name": "#%%\n"
    }
   },
   "outputs": [],
   "source": [
    "def get_event_params(event):\n",
    "    origin = event.preferred_origin()\n",
    "    mag = event.preferred_magnitude()\n",
    "\n",
    "    source_id = str(event.resource_id)\n",
    "\n",
    "    event_params = {\n",
    "        \"source_id\": source_id,\n",
    "        \"source_origin_time\": str(origin.time),\n",
    "        \"source_origin_uncertainty_sec\": origin.time_errors[\"uncertainty\"],\n",
    "        \"source_latitude_deg\": origin.latitude,\n",
    "        \"source_latitude_uncertainty_km\": origin.latitude_errors[\"uncertainty\"],\n",
    "        \"source_longitude_deg\": origin.longitude,\n",
    "        \"source_longitude_uncertainty_km\": origin.longitude_errors[\"uncertainty\"],\n",
    "        \"source_depth_km\": origin.depth / 1e3            if origin.depth else None,\n",
    "        \"source_depth_uncertainty_km\": origin.depth_errors[\"uncertainty\"] / 1e3           if origin.depth else None,\n",
    "    }\n",
    "\n",
    "    if mag is not None:\n",
    "        event_params[\"source_magnitude\"] = mag.mag\n",
    "        event_params[\"source_magnitude_uncertainty\"] = mag.mag_errors[\"uncertainty\"]\n",
    "        event_params[\"source_magnitude_type\"] = mag.magnitude_type\n",
    "        event_params[\"source_magnitude_author\"] = mag.creation_info.agency_id\n",
    "\n",
    "        if str(origin.time) < \"2015-01-07\":\n",
    "            split = \"train\"\n",
    "        elif str(origin.time) < \"2015-01-08\":\n",
    "            split = \"dev\"\n",
    "        else:\n",
    "            split = \"test\"\n",
    "        event_params[\"split\"] = split\n",
    "    return event_params"
   ]
  },
  {
   "cell_type": "markdown",
   "id": "917b7f36",
   "metadata": {
    "id": "917b7f36",
    "pycharm": {
     "name": "#%% md\n"
    }
   },
   "source": [
    "#### Extracting the trace parameters\n",
    "\n",
    "From each pick, we extract parameters about the trace and store them in a dictionary. Again, we only extract very basic parameters. We visualize one example."
   ]
  },
  {
   "cell_type": "code",
   "execution_count": 8,
   "id": "ef0e47c0",
   "metadata": {
    "id": "ef0e47c0",
    "outputId": "cf98a9a5-eed4-4fca-ce2f-ff7cb4f9509d",
    "pycharm": {
     "name": "#%%\n"
    }
   },
   "outputs": [],
   "source": [
    "def get_trace_params(pick):\n",
    "    net = pick.waveform_id.network_code\n",
    "    sta = pick.waveform_id.station_code\n",
    "\n",
    "    trace_params = {\n",
    "        \"station_network_code\": net,\n",
    "        \"station_code\": sta,\n",
    "        \"trace_channel\": pick.waveform_id.channel_code[:2],\n",
    "        \"station_location_code\": pick.waveform_id.location_code,\n",
    "    }\n",
    "\n",
    "    return trace_params"
   ]
  },
  {
   "cell_type": "markdown",
   "id": "b564335e",
   "metadata": {
    "id": "b564335e",
    "pycharm": {
     "name": "#%% md\n"
    }
   },
   "source": [
    "#### Downloading the waveforms\n",
    "\n",
    "As a last step, we need to access the waveforms. As for the catalog, we download the waveforms from ETHZ via FDSN. Note that not for all picks we can expect to have waveforms available through FDSN, so we just return empty streams if no data is available. We visualize one example."
   ]
  },
  {
   "cell_type": "markdown",
   "id": "ab655daa",
   "metadata": {},
   "source": [
    "### Method 1"
   ]
  },
  {
   "cell_type": "code",
   "execution_count": 9,
   "id": "c0d2a356",
   "metadata": {},
   "outputs": [],
   "source": [
    "# def rename_stream_mapper(obspy_stream, networks, stations, locations, channels):\n",
    "#     for tr in obspy_stream:\n",
    "#         tr.stats.network = networks[tr.stats.network]\n",
    "#         tr.stats.station = stations[tr.stats.station]\n",
    "#         tr.stats.location = locations[tr.stats.location]\n",
    "#         tr.stats.channel = channels[tr.stats.channel]\n",
    "\n",
    "def reversing_dictionary(dictionary):\n",
    "    return {v:k for k, v in dictionary.items()}\n",
    "\n",
    "networks = {'': ''}\n",
    "stations = {'6210': 'HANA',# 6210-Hana-shour  \n",
    "            '6249': 'SORM',# 6249-Sarmak ??? SORM\n",
    "            '6260': 'CHAH',# 6260-Chahgah     \n",
    "            '6270': 'LAVA',# 6270-Lavar\n",
    "            '6215': 'JASH',# 6215-Jashk       \n",
    "            '6251': 'SANA',# 6251-Sana              \n",
    "            '6261': 'SHON',# 6261-Shonbeh     \n",
    "            '6289': 'ABDA',# 6289-Abdan\n",
    "            '6218': 'KERD',# 6218-Kerdelan    \n",
    "            '6252': 'BONY',# 6252-Bonyad            \n",
    "            '6266': 'KARD',# 6266-Kardaneh\n",
    "            '6219': 'DOHO',# 6219-Dohouk      \n",
    "            '6255': 'BOBM',# 6255-Babmonir          \n",
    "            '6268': 'ESLA',# 6268-Eslam-Abad\n",
    "            '6226': 'BAGH',# 6226-Baghan      \n",
    "            '6259': 'GENK',# 6259-Genkhak-Sheikhha  \n",
    "            '6270': 'DARV',# 6270-drveshei\n",
    "            }\n",
    "\n",
    "locations = {'': ''}\n",
    "\n",
    "channels = {'HHZ': 'HHZ',\n",
    "            'HHN': 'HHN',\n",
    "            'HHE': 'HHE'}\n",
    "\n",
    "stationsr = reversing_dictionary(stations)"
   ]
  },
  {
   "cell_type": "markdown",
   "id": "f2f7e9d2",
   "metadata": {},
   "source": [
    "### Method 2"
   ]
  },
  {
   "cell_type": "code",
   "execution_count": 10,
   "id": "dbe6a0f2",
   "metadata": {},
   "outputs": [],
   "source": [
    "import pandas as pd\n",
    "from obspy import UTCDateTime as utc\n",
    "import numpy as np\n",
    "\n",
    "df = pd.read_csv(cfg.path.network_details, dtype=str)\n",
    "\n",
    "def rename_stream_mapper(stream, dataframe):\n",
    "    for tr in stream:\n",
    "        df = dataframe[dataframe.eq(tr.stats.station).any(axis=1)]\n",
    "        for indx, row in df.iterrows():\n",
    "            cond1 = utc(row.start) <= tr.stats.starttime\n",
    "            cond2 = tr.stats.endtime <= utc(row.end)\n",
    "            if cond1 and cond2:\n",
    "                tr.stats.network = row.network\n",
    "                tr.stats.station = row.station\n",
    "                tr.stats.location = row.location\n",
    "                tr.stats.channel = row.channel + tr.stats.channel[-1]"
   ]
  },
  {
   "cell_type": "code",
   "execution_count": 11,
   "id": "591c287f",
   "metadata": {},
   "outputs": [],
   "source": [
    "def get_true_station_name(dataframe, sensor_or_station, time):\n",
    "    df = dataframe[dataframe.eq(sensor_or_station).any(axis=1)]\n",
    "    df.reset_index(inplace=True)\n",
    "    # print(df)\n",
    "    if df.shape[0] == 1:\n",
    "        target = df.iloc[0]\n",
    "    elif df.shape[0] > 1:\n",
    "        target = None\n",
    "        for indx, row in df.iterrows():\n",
    "            cond = utc(row.start) <= time <= utc(row.end)\n",
    "            if cond:\n",
    "                target = row\n",
    "    else:\n",
    "        print('There is not proper data in the network dataframe.')\n",
    "        target = None\n",
    "    return target"
   ]
  },
  {
   "cell_type": "code",
   "execution_count": 12,
   "id": "a0cf41f2",
   "metadata": {},
   "outputs": [],
   "source": [
    "def get_waveforms(pick, root):\n",
    "    station_details = get_true_station_name(\n",
    "        dataframe=network_details,\n",
    "        sensor_or_station=pick.waveform_id.station_code,\n",
    "        time=pick.time\n",
    "        )\n",
    "    # stationsr = reversing_dictionary(stations)\n",
    "    # station_code = stationsr.get(pick.waveform_id.station_code)\n",
    "    if station_details is None:\n",
    "        print(f'Station Not Found.\\n{pick.waveform_id.station_code}\\n')\n",
    "        with open('reading-data-problem.txt', 'a') as f:\n",
    "            f.write(f'Station Not Found.\\n{pick.waveform_id.station_code}\\n')\n",
    "        return Stream()\n",
    "    time = pick.time.strftime('%Y%m%d_%H')\n",
    "    st = Stream()\n",
    "    for channel in ['e', 'n', 'z']:\n",
    "        path_data = f'{root}/{station_details.sensor}-*/gcf/{time}00{channel}.gcf'\n",
    "        try:\n",
    "            st += read(path_data)\n",
    "        except Exception as error:\n",
    "            print(f'Skip Data.\\n{error}\\n{path_data}\\n')\n",
    "            with open('reading-data-problem.txt', 'a') as f:\n",
    "                f.write(f'Skip Data.\\n{error}\\n{path_data}\\n')\n",
    "    # st_trim = st.slice(starttime=pick.time-time_before,\n",
    "    #                    endtime=pick.time+time_after)\n",
    "    for tr in st:\n",
    "        tr.stats.network = station_details.network\n",
    "        tr.stats.station = station_details.station\n",
    "        tr.stats.location = station_details.location\n",
    "        tr.stats.channel = station_details.channel + tr.stats.channel[-1]\n",
    "\n",
    "    return st\n"
   ]
  },
  {
   "cell_type": "code",
   "execution_count": 13,
   "id": "5be38a8f",
   "metadata": {},
   "outputs": [],
   "source": [
    "def trim_data(st, pick, before, after):\n",
    "    st.trim(starttime=pick.time-before,\n",
    "            endtime=pick.time+after,\n",
    "            pad=True,\n",
    "            nearest_sample=True,\n",
    "            fill_value=0) "
   ]
  },
  {
   "cell_type": "code",
   "execution_count": 14,
   "id": "98c45894",
   "metadata": {},
   "outputs": [],
   "source": [
    "def preprocessing_data(st):\n",
    "    st.merge(-1)\n",
    "    st.detrend('constant')\n",
    "    st.merge(fill_value=0)\n"
   ]
  },
  {
   "cell_type": "markdown",
   "id": "be45494c",
   "metadata": {
    "id": "be45494c",
    "pycharm": {
     "name": "#%% md\n"
    }
   },
   "source": [
    "#### Writing to SeisBench format\n",
    "\n",
    "Now, we can combine all the above functions together to write a dataset in SeisBench format. For this, we first need to define the path. For this example, we are using the current working directory. A dataset consists of 2 components:\n",
    " - a metadata file, always called `metadata.csv`, which contains all the associated properties of the waveform examples (e.g. trace parameters, source parameters etc.).\n",
    " - a waveforms file, always called `waveforms.hdf5`, containing the raw waveforms."
   ]
  },
  {
   "cell_type": "code",
   "execution_count": 15,
   "id": "30d0d5f8",
   "metadata": {
    "id": "30d0d5f8",
    "pycharm": {
     "name": "#%%\n"
    }
   },
   "outputs": [
    {
     "name": "stdout",
     "output_type": "stream",
     "text": [
      "Kaki-Dataset-All_1403-06-12/metadata.csv\n",
      "Kaki-Dataset-All_1403-06-12/waveforms.hdf5\n"
     ]
    }
   ],
   "source": [
    "base_path = Path(cfg.path.out)\n",
    "metadata_path = base_path / \"metadata.csv\"\n",
    "waveforms_path = base_path / \"waveforms.hdf5\"\n",
    "print(metadata_path, waveforms_path, sep='\\n')"
   ]
  },
  {
   "cell_type": "markdown",
   "id": "ea69c41a",
   "metadata": {
    "id": "ea69c41a",
    "pycharm": {
     "name": "#%% md\n"
    }
   },
   "source": [
    "To write the dataset, we use the `WaveformDataWriter` provided by SeisBench. The writer should always be used as a context manager, i.e., using the `with` statement, as shown below. This is to ensure files are properly clsoed after writing and teardown and cleanup operations are always called when exiting the context manager.\n",
    "\n",
    "First, we need to set the data format for our dataset. We do this by assigning a dictionary to the `writer.data_format` group.\n",
    "\n",
    "Next, we iterate over all event and all picks in the events. Using the functions above, we generate the event and trace metadata and download the waveforms. We then convert the waveforms to a numpy array using the function `stream_to_array` provided in `seisbench.util`.\n",
    "\n",
    "As a last step, we hand the event metadata and the waveforms as numpy array over to the writer using `add_trace`. The writer then automatically takes care of writing out the data in the correct format. It also takes care of performance optimisations that we outline in the further considerations below."
   ]
  },
  {
   "cell_type": "code",
   "execution_count": 16,
   "id": "eba60659",
   "metadata": {},
   "outputs": [],
   "source": [
    "def select_picks(picks, station_name):\n",
    "    picks = [pick for pick in picks\n",
    "             if pick.waveform_id.station_code==station_name]\n",
    "    picks = sorted(picks,\n",
    "                   key= lambda p: p.time)\n",
    "    return picks\n",
    "    "
   ]
  },
  {
   "cell_type": "code",
   "execution_count": 17,
   "id": "533508ee",
   "metadata": {},
   "outputs": [],
   "source": [
    "def get_picks_time_difference(picks):\n",
    "    picks_time = [pick.time for pick in picks]\n",
    "    picks_time = sorted(picks_time)\n",
    "    picks_difftime = [time-picks_time[0] for time in picks_time]\n",
    "    return picks_difftime"
   ]
  },
  {
   "cell_type": "code",
   "execution_count": 18,
   "id": "041c98fe",
   "metadata": {},
   "outputs": [],
   "source": [
    "def checking_equal_sps(stream):\n",
    "    sps = stream[0].stats.sampling_rate\n",
    "    assert all(tr.stats.sampling_rate == sps for tr in stream)"
   ]
  },
  {
   "cell_type": "code",
   "execution_count": 19,
   "id": "701fc683",
   "metadata": {},
   "outputs": [],
   "source": [
    "before = 60\n",
    "after = 60"
   ]
  },
  {
   "cell_type": "code",
   "execution_count": 20,
   "id": "dbec34f6",
   "metadata": {
    "id": "dbec34f6",
    "outputId": "d50fa6fd-ed8a-4932-c9db-c1fad4246dd1",
    "pycharm": {
     "name": "#%%\n"
    }
   },
   "outputs": [
    {
     "name": "stdout",
     "output_type": "stream",
     "text": [
      "0 of 50 (0.00%)\n"
     ]
    },
    {
     "name": "stderr",
     "output_type": "stream",
     "text": [
      "Traces converted: 287it [00:28, 10.12it/s]\n"
     ]
    }
   ],
   "source": [
    "# Iterate over events and picks, write to SeisBench format\n",
    "with sbd.WaveformDataWriter(metadata_path, waveforms_path) as writer:\n",
    "\n",
    "    # Define data format\n",
    "    writer.data_format = {\n",
    "        \"dimension_order\": \"CW\",\n",
    "        \"component_order\": \"ZNE\",\n",
    "        \"measurement\": \"velocity\",\n",
    "        \"unit\": \"counts\",\n",
    "        \"instrument_response\": \"not restituted\",\n",
    "    }\n",
    "    n_all = len(catalog)\n",
    "    for index, event in enumerate(catalog):\n",
    "        # if index < 1050:\n",
    "        #     continue\n",
    "        if index % 100 == 0:\n",
    "            print(f'{index} of {n_all} ({index/n_all*100:.2f}%)')\n",
    "        # if index == 10:\n",
    "        #     break\n",
    "\n",
    "        event_params = get_event_params(event)\n",
    "        stations_in_event = {pick.waveform_id.station_code for pick in event.picks}\n",
    "        for station_name in stations_in_event:\n",
    "            picks = select_picks(picks=event.picks,\n",
    "                                 station_name=station_name)\n",
    "            ###\n",
    "            time_diff = get_picks_time_difference(picks)\n",
    "            if max(time_diff) >= 60:\n",
    "                print(f'losing pick, maximume is: {max(time_diff)}')\n",
    "            ###\n",
    "            pick = picks[0]\n",
    "            trace_params = get_trace_params(pick)\n",
    "            waveforms = get_waveforms(pick, cfg.path.stream)\n",
    "            ### Preprocessing waveform\n",
    "            # rename_stream_mapper(waveforms, networks, stations, locations, channels)\n",
    "            preprocessing_data(st=waveforms)\n",
    "            # random = np.random.uniform(-before/2, before/2)\n",
    "            trim_data(waveforms, pick, before=before, after=after)\n",
    "            ### Check remaining data\n",
    "            if len(waveforms) == 0:\n",
    "                # No waveform data available\n",
    "                continue\n",
    "            ###\n",
    "            sampling_rate = waveforms[0].stats.sampling_rate\n",
    "            # Check that the traces have the same sampling rate\n",
    "            checking_equal_sps(stream=waveforms)\n",
    "\n",
    "            actual_t_start, data, _ = sbu.stream_to_array(\n",
    "                waveforms,\n",
    "                component_order=writer.data_format[\"component_order\"],\n",
    "            )\n",
    "            trace_params[\"trace_sampling_rate_hz\"] = sampling_rate\n",
    "            trace_params[\"trace_start_time\"] = str(actual_t_start)\n",
    "\n",
    "            for pick in picks:\n",
    "                sample = (pick.time - actual_t_start) * sampling_rate\n",
    "                trace_params[f\"trace_{pick.phase_hint}_arrival_sample\"] = int(sample)\n",
    "                trace_params[f\"trace_{pick.phase_hint}_status\"] = pick.evaluation_mode\n",
    "\n",
    "            writer.add_trace({**event_params, **trace_params}, data)"
   ]
  }
 ],
 "metadata": {
  "colab": {
   "provenance": []
  },
  "kernelspec": {
   "display_name": "Python 3 (ipykernel)",
   "language": "python",
   "name": "python3"
  },
  "language_info": {
   "codemirror_mode": {
    "name": "ipython",
    "version": 3
   },
   "file_extension": ".py",
   "mimetype": "text/x-python",
   "name": "python",
   "nbconvert_exporter": "python",
   "pygments_lexer": "ipython3",
   "version": "3.10.14"
  }
 },
 "nbformat": 4,
 "nbformat_minor": 5
}
