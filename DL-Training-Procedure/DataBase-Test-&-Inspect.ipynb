{
 "cells": [
  {
   "cell_type": "markdown",
   "id": "5afc9885",
   "metadata": {
    "id": "5afc9885",
    "pycharm": {
     "name": "#%% md\n"
    }
   },
   "source": [
    "# Header\n",
    "\n",
    "text\n",
    "\n",
    "**Note:** text"
   ]
  },
  {
   "cell_type": "code",
   "execution_count": 5,
   "id": "a5d5a03f",
   "metadata": {
    "id": "a5d5a03f",
    "pycharm": {
     "name": "#%%\n"
    }
   },
   "outputs": [],
   "source": [
    "import seisbench.data as sbd\n",
    "import matplotlib.pyplot as plt\n",
    "from pathlib import Path\n",
    "import numpy as np\n",
    "import pandas as pd\n",
    "from config import load_config"
   ]
  },
  {
   "cell_type": "code",
   "execution_count": 6,
   "id": "86d76abb",
   "metadata": {},
   "outputs": [],
   "source": [
    "import warnings\n",
    "warnings.simplefilter('ignore', DeprecationWarning)"
   ]
  },
  {
   "cell_type": "markdown",
   "id": "300ffffa",
   "metadata": {},
   "source": [
    "#### Loading configuration file"
   ]
  },
  {
   "cell_type": "code",
   "execution_count": 7,
   "id": "de598521",
   "metadata": {},
   "outputs": [
    {
     "name": "stdout",
     "output_type": "stream",
     "text": [
      "path: inp: /home/ekarkooti/Documents\n",
      "catalog: /media/ekarkooti/ext4/Kahbasi-PhD/Kaki/Catalog-get-1403-06-10/kaki_all.out\n",
      "stream: /media/ekarkooti/ext4/Kahbasi-PhD/Kaki/raw-gcf-data\n",
      "network_details: /media/ekarkooti/ext4/Kahbasi-PhD/Kaki/Kaki_station-sensor-region-coords.csv\n",
      "dataset: ./Kaki-Dataset-All_1403-06-12\n",
      "model: path: ./model\n",
      "name: PhaseNet_Kaki_1403-06\n",
      "\n",
      "\n",
      "\n"
     ]
    }
   ],
   "source": [
    "cfg = load_config('Kaki-cfg.yml')\n",
    "print(cfg)"
   ]
  },
  {
   "cell_type": "markdown",
   "id": "11ba93ee",
   "metadata": {
    "id": "11ba93ee",
    "pycharm": {
     "name": "#%% md\n"
    }
   },
   "source": [
    "### Loading the dataset\n",
    "\n",
    "Now that the dataset conversion is finished, we can check it by simply loading it. Here we load the dataset, print the metadata and visualize the first waveform together with the annotated pick."
   ]
  },
  {
   "cell_type": "code",
   "execution_count": 8,
   "id": "517e21b9",
   "metadata": {
    "id": "517e21b9",
    "pycharm": {
     "name": "#%%\n"
    }
   },
   "outputs": [
    {
     "name": "stderr",
     "output_type": "stream",
     "text": [
      "2024-09-02 15:43:53,534 | seisbench | WARNING | Component order not specified, defaulting to 'ZNE'.\n"
     ]
    }
   ],
   "source": [
    "base_path = Path(cfg.path.dataset)\n",
    "\n",
    "data = sbd.WaveformDataset(base_path, sampling_rate=100)"
   ]
  },
  {
   "cell_type": "code",
   "execution_count": 9,
   "id": "bd22a167",
   "metadata": {
    "id": "bd22a167",
    "outputId": "73f9f276-334b-4c71-a8d1-7b55ad7bc9ab",
    "pycharm": {
     "name": "#%%\n"
    }
   },
   "outputs": [
    {
     "name": "stdout",
     "output_type": "stream",
     "text": [
      "Training examples: 287\n",
      "Development examples: 0\n",
      "Test examples: 0\n"
     ]
    }
   ],
   "source": [
    "print(\"Training examples:\", len(data.train()))\n",
    "print(\"Development examples:\", len(data.dev()))\n",
    "print(\"Test examples:\", len(data.test()))"
   ]
  },
  {
   "cell_type": "code",
   "execution_count": 10,
   "id": "3e4d4bce",
   "metadata": {
    "id": "3e4d4bce",
    "outputId": "56570c19-a678-4e6a-89b1-df8087434807",
    "pycharm": {
     "name": "#%%\n"
    }
   },
   "outputs": [
    {
     "data": {
      "text/html": [
       "<div>\n",
       "<style scoped>\n",
       "    .dataframe tbody tr th:only-of-type {\n",
       "        vertical-align: middle;\n",
       "    }\n",
       "\n",
       "    .dataframe tbody tr th {\n",
       "        vertical-align: top;\n",
       "    }\n",
       "\n",
       "    .dataframe thead th {\n",
       "        text-align: right;\n",
       "    }\n",
       "</style>\n",
       "<table border=\"1\" class=\"dataframe\">\n",
       "  <thead>\n",
       "    <tr style=\"text-align: right;\">\n",
       "      <th></th>\n",
       "      <th>trace_Pg_arrival_sample</th>\n",
       "      <th>trace_AML_arrival_sample</th>\n",
       "      <th>trace_Sg_arrival_sample</th>\n",
       "    </tr>\n",
       "  </thead>\n",
       "  <tbody>\n",
       "    <tr>\n",
       "      <th>0</th>\n",
       "      <td>6000.0</td>\n",
       "      <td>7092.0</td>\n",
       "      <td>NaN</td>\n",
       "    </tr>\n",
       "    <tr>\n",
       "      <th>1</th>\n",
       "      <td>6000.0</td>\n",
       "      <td>6491.0</td>\n",
       "      <td>6428.0</td>\n",
       "    </tr>\n",
       "    <tr>\n",
       "      <th>2</th>\n",
       "      <td>6000.0</td>\n",
       "      <td>6559.0</td>\n",
       "      <td>6234.0</td>\n",
       "    </tr>\n",
       "    <tr>\n",
       "      <th>3</th>\n",
       "      <td>6000.0</td>\n",
       "      <td>6850.0</td>\n",
       "      <td>NaN</td>\n",
       "    </tr>\n",
       "    <tr>\n",
       "      <th>4</th>\n",
       "      <td>6000.0</td>\n",
       "      <td>6709.0</td>\n",
       "      <td>6298.0</td>\n",
       "    </tr>\n",
       "    <tr>\n",
       "      <th>...</th>\n",
       "      <td>...</td>\n",
       "      <td>...</td>\n",
       "      <td>...</td>\n",
       "    </tr>\n",
       "    <tr>\n",
       "      <th>282</th>\n",
       "      <td>6000.0</td>\n",
       "      <td>6559.0</td>\n",
       "      <td>6390.0</td>\n",
       "    </tr>\n",
       "    <tr>\n",
       "      <th>283</th>\n",
       "      <td>6000.0</td>\n",
       "      <td>6253.0</td>\n",
       "      <td>6200.0</td>\n",
       "    </tr>\n",
       "    <tr>\n",
       "      <th>284</th>\n",
       "      <td>6000.0</td>\n",
       "      <td>6288.0</td>\n",
       "      <td>6250.0</td>\n",
       "    </tr>\n",
       "    <tr>\n",
       "      <th>285</th>\n",
       "      <td>6000.0</td>\n",
       "      <td>NaN</td>\n",
       "      <td>6164.0</td>\n",
       "    </tr>\n",
       "    <tr>\n",
       "      <th>286</th>\n",
       "      <td>6000.0</td>\n",
       "      <td>6411.0</td>\n",
       "      <td>6325.0</td>\n",
       "    </tr>\n",
       "  </tbody>\n",
       "</table>\n",
       "<p>287 rows × 3 columns</p>\n",
       "</div>"
      ],
      "text/plain": [
       "     trace_Pg_arrival_sample  trace_AML_arrival_sample  \\\n",
       "0                     6000.0                    7092.0   \n",
       "1                     6000.0                    6491.0   \n",
       "2                     6000.0                    6559.0   \n",
       "3                     6000.0                    6850.0   \n",
       "4                     6000.0                    6709.0   \n",
       "..                       ...                       ...   \n",
       "282                   6000.0                    6559.0   \n",
       "283                   6000.0                    6253.0   \n",
       "284                   6000.0                    6288.0   \n",
       "285                   6000.0                       NaN   \n",
       "286                   6000.0                    6411.0   \n",
       "\n",
       "     trace_Sg_arrival_sample  \n",
       "0                        NaN  \n",
       "1                     6428.0  \n",
       "2                     6234.0  \n",
       "3                        NaN  \n",
       "4                     6298.0  \n",
       "..                       ...  \n",
       "282                   6390.0  \n",
       "283                   6200.0  \n",
       "284                   6250.0  \n",
       "285                   6164.0  \n",
       "286                   6325.0  \n",
       "\n",
       "[287 rows x 3 columns]"
      ]
     },
     "execution_count": 10,
     "metadata": {},
     "output_type": "execute_result"
    }
   ],
   "source": [
    "targets = [key for key in data.metadata.keys() if 'arrival' in key]\n",
    "data.metadata[targets]\n",
    "# data.metadata.keys()"
   ]
  },
  {
   "cell_type": "code",
   "execution_count": 11,
   "id": "3851d1a5",
   "metadata": {
    "id": "3851d1a5",
    "outputId": "876eb18a-bd36-4be6-fd7d-13296fea9cd3",
    "pycharm": {
     "name": "#%%\n"
    }
   },
   "outputs": [
    {
     "name": "stdout",
     "output_type": "stream",
     "text": [
      "(3, 12001)\n"
     ]
    },
    {
     "data": {
      "image/png": "[encoded data removed]",
      "text/plain": [
       "<Figure size 700x250 with 1 Axes>"
      ]
     },
     "metadata": {},
     "output_type": "display_data"
    },
    {
     "name": "stdout",
     "output_type": "stream",
     "text": [
      "(3, 12001)\n"
     ]
    },
    {
     "data": {
      "image/png": "[encoded data removed]",
      "text/plain": [
       "<Figure size 700x250 with 1 Axes>"
      ]
     },
     "metadata": {},
     "output_type": "display_data"
    }
   ],
   "source": [
    "def cmap(phase_hint):\n",
    "    c = {'Pg': 'r', 'Sg': 'b', 'AML': 'c'}\n",
    "    return c.get(phase_hint, 'y')\n",
    "\n",
    "for ii, metadata in data.metadata.iterrows():\n",
    "    if ii == 2:\n",
    "        break\n",
    "    # print(metadata)\n",
    "    fig = plt.figure(figsize=(7, 2.5))\n",
    "    ax = fig.add_subplot(111)\n",
    "    trace = data.get_waveforms(ii)\n",
    "    print(trace.shape)\n",
    "    ax.plot(trace.T)\n",
    "    targets = [key for key in metadata.keys() if 'arrival' in key]\n",
    "    targets = [key for key in targets if not np.isnan(metadata[key])]\n",
    "    # print(targets, metadata[targets])\n",
    "    for target in targets:\n",
    "        phase_hint = target.split('_')[1]\n",
    "        ax.axvline(metadata[target], lw=3, c=cmap(phase_hint), label=phase_hint)\n",
    "    plt.legend()\n",
    "    plt.show()"
   ]
  },
  {
   "cell_type": "markdown",
   "id": "1c2930fb",
   "metadata": {
    "id": "1c2930fb",
    "pycharm": {
     "name": "#%% md\n"
    }
   },
   "source": [
    "## Considerations for converting datasets\n",
    "\n",
    "As outlined above, this tutorial provides a very minimal example on converting a dataset. Here we outline additional consideration that should be taken into account when preparing a dataset.\n",
    "\n",
    "- **Grouping picks**: In this example, we created one trace for each pick. Naturally, traces will overlap if multiple picks, e.g., P and S phases, are available for an event at a station. For an example implementation of this grouping operation, have a look [here](https://github.com/seisbench/seisbench/blob/df94dcd86ce66d6a2ee2bd00da3857259fe579bd/seisbench/data/ethz.py#L109) and in the subsequent lines.\n",
    "- **Adding station information**: In this example, we added no station information except its name. In practice, it will often be helpful for users to incorporate, for example, the location of the station. We skipped this step here, because it requires loading station inventories through FDSN. For an example implementation, have a look [here](https://github.com/seisbench/seisbench/blob/df94dcd86ce66d6a2ee2bd00da3857259fe579bd/seisbench/data/ethz.py#L315).\n",
    "- **Memory requirements**: Internally, the `WaveformDataWriter` writes out the the waveforms continuously in blocks (see point below), but keeps all metadata in memory until the dataset is complete. For very large datasets (or very detailed metadata) this can result in several gigabytes of memory consumption. If you are writing such datasets, make sure the available memory on your machine is sufficient.\n",
    "- **Waveform blocks**: Instead of writing each waveform separately, waveforms are written out in blocks. This massively improves IO performance. Have a look at [the documentation](https://seisbench.readthedocs.io/en/stable/pages/data_format.html#traces-blocks) for details on the strategy. We expect that in nearly all cases using the default setting will be a good choice.\n",
    "- **FDSN considerations**: When converting very large datasets, the performance might be limited by the performance of the FDSN webservice. Unfortunately, downloading lots of short waveforms (as required for many machine learning applications) does not seem to be the most favorable use case for FDSN. This leads to rather slow performance when naively downloading the waveforms as outlined above. Instead, it is often helpful to issue [bulk requests](https://docs.obspy.org/master/packages/autogen/obspy.clients.fdsn.client.Client.get_waveforms_bulk.html). In addition, it might be a good choice to first download the waveforms and cache them locally, for example, in .mseed format, and then convert them to SeisBench.\n",
    "\n",
    "For further details on the data format, check out [the data format specification in the SeisBench documentation](https://seisbench.readthedocs.io/en/stable/pages/data_format.html#traces-blocks)."
   ]
  },
  {
   "cell_type": "code",
   "execution_count": 12,
   "id": "7bbde789",
   "metadata": {},
   "outputs": [
    {
     "name": "stdout",
     "output_type": "stream",
     "text": [
      "(3, 12001)\n"
     ]
    },
    {
     "data": {
      "text/plain": [
       "<matplotlib.legend.Legend at 0x7fc288f20d60>"
      ]
     },
     "execution_count": 12,
     "metadata": {},
     "output_type": "execute_result"
    },
    {
     "data": {
      "image/png": "[encoded data removed]",
      "text/plain": [
       "<Figure size 1000x500 with 3 Axes>"
      ]
     },
     "metadata": {},
     "output_type": "display_data"
    }
   ],
   "source": [
    "def cmap(phase_hint):\n",
    "    c = {'Pg': 'r', 'Sg': 'b', 'AML': 'c'}\n",
    "    return c.get(phase_hint, 'y')\n",
    "\n",
    "ii = 4\n",
    "metadata = data.metadata.iloc[ii]\n",
    "# print(metadata)\n",
    "fig, axes = plt.subplots(3, 1, figsize=(10, 5), sharex=True)\n",
    "trace = data.get_waveforms(ii)\n",
    "print(trace.shape)\n",
    "for jj in range(3):\n",
    "    axes[jj].plot(trace.T[:, jj], c='k', lw=0.5)\n",
    "    axes[jj].patch.set_visible(False)\n",
    "    axes[jj].axis('off')\n",
    "targets = [key for key in metadata.keys() if 'arrival' in key]\n",
    "targets = [key for key in targets if not np.isnan(metadata[key])]\n",
    "# print(targets, metadata[targets])\n",
    "for target in targets:\n",
    "    phase_hint = target.split('_')[1]\n",
    "    for jj in range(3):\n",
    "        axes[jj].axvline(metadata[target], lw=2, c=cmap(phase_hint), label=phase_hint[0])\n",
    "axes[1].legend()"
   ]
  },
  {
   "cell_type": "code",
   "execution_count": 13,
   "id": "390b57d0",
   "metadata": {},
   "outputs": [
    {
     "data": {
      "text/plain": [
       "index                                                                           4\n",
       "source_id                          smi:local/690990bf-3b41-4d20-a11e-b7b7eb2d5d14\n",
       "source_origin_time                                    2013-04-14T09:58:29.700000Z\n",
       "source_origin_uncertainty_sec                                                 0.4\n",
       "source_latitude_deg                                                        28.538\n",
       "source_latitude_uncertainty_km                                           0.082738\n",
       "source_longitude_deg                                                       51.636\n",
       "source_longitude_uncertainty_km                                           0.08292\n",
       "source_depth_km                                                               4.3\n",
       "source_depth_uncertainty_km                                                 468.7\n",
       "source_magnitude                                                              2.3\n",
       "source_magnitude_uncertainty                                                  NaN\n",
       "source_magnitude_type                                                          ML\n",
       "source_magnitude_author                                                       SLT\n",
       "split                                                                       train\n",
       "station_network_code                                                          NaN\n",
       "station_code                                                                 BOBM\n",
       "trace_channel                                                                  SZ\n",
       "station_location_code                                                         NaN\n",
       "trace_sampling_rate_hz                                                      100.0\n",
       "trace_start_time                                      2013-04-14T09:57:33.310000Z\n",
       "trace_Pg_arrival_sample                                                    6000.0\n",
       "trace_Pg_status                                                            manual\n",
       "trace_AML_arrival_sample                                                   6709.0\n",
       "trace_AML_status                                                           manual\n",
       "trace_name                                                    bucket0$4,:3,:12001\n",
       "trace_Sg_arrival_sample                                                    6298.0\n",
       "trace_Sg_status                                                            manual\n",
       "trace_chunk                                                                      \n",
       "trace_component_order                                                         ZNE\n",
       "Name: 4, dtype: object"
      ]
     },
     "execution_count": 13,
     "metadata": {},
     "output_type": "execute_result"
    }
   ],
   "source": [
    "metadata"
   ]
  }
 ],
 "metadata": {
  "colab": {
   "provenance": []
  },
  "kernelspec": {
   "display_name": "Python 3 (ipykernel)",
   "language": "python",
   "name": "python3"
  },
  "language_info": {
   "codemirror_mode": {
    "name": "ipython",
    "version": 3
   },
   "file_extension": ".py",
   "mimetype": "text/x-python",
   "name": "python",
   "nbconvert_exporter": "python",
   "pygments_lexer": "ipython3",
   "version": "3.10.14"
  }
 },
 "nbformat": 4,
 "nbformat_minor": 5
}
