{
 "cells": [
  {
   "cell_type": "code",
   "execution_count": null,
   "id": "75e4f1c1",
   "metadata": {},
   "outputs": [],
   "source": [
    "from seisbench.data import WaveformDataset\n",
    "from seisbench.data import MultiWaveformDataset\n",
    "import sys\n",
    "import os\n",
    "import glob"
   ]
  },
  {
   "cell_type": "code",
   "execution_count": null,
   "id": "abc00840",
   "metadata": {},
   "outputs": [],
   "source": [
    "lib_path = [r'C:\\Users\\ikahbasi\\OneDrive\\Applications\\GitHub\\SeisRoutine',\n",
    "            r'C:\\Users\\ikahb\\OneDrive\\Applications\\GitHub\\SeisRoutine']\n",
    "for path in lib_path:\n",
    "    sys.path.append(path)\n",
    "##########################################################################\n",
    "import SeisRoutine.catalog as src\n",
    "import SeisRoutine.waveform as srw\n",
    "import SeisRoutine.config as srconf\n",
    "import SeisRoutine.statistics as srs"
   ]
  },
  {
   "cell_type": "code",
   "execution_count": null,
   "id": "1919458a",
   "metadata": {},
   "outputs": [],
   "source": [
    "init_cfg = srconf.load_config('0-init-cfg.yml')\n",
    "\n",
    "lst_datasets = []\n",
    "for cfg_path in glob.glob(os.path.join(init_cfg.target_config_filepath, '*-last_run-cfg.yml')):\n",
    "    print(cfg_path)\n",
    "    cfg = srconf.load_config(cfg_path)\n",
    "    dataset = WaveformDataset(\n",
    "        path=cfg.mk_dataset.path.outputs.dataset,\n",
    "        component_order=cfg.mk_dataset.parameters.component_order,\n",
    "        # dimension_order=cfg.mk_dataset.parameters.dimension_order,\n",
    "        sampling_rate=cfg.mk_dataset.parameters.sampling_rate\n",
    "        )\n",
    "    lst_datasets.append(dataset)"
   ]
  },
  {
   "cell_type": "code",
   "execution_count": null,
   "id": "65676736",
   "metadata": {},
   "outputs": [],
   "source": [
    "combined_dataset = MultiWaveformDataset(lst_datasets)"
   ]
  },
  {
   "cell_type": "code",
   "execution_count": null,
   "id": "2b86276b",
   "metadata": {},
   "outputs": [],
   "source": [
    "list(combined_dataset.metadata.keys())"
   ]
  },
  {
   "cell_type": "code",
   "execution_count": null,
   "id": "903a0399",
   "metadata": {},
   "outputs": [],
   "source": [
    "from seisbench.data import WaveformDataWriter\n",
    "from pathlib import Path\n",
    "from datetime import datetime"
   ]
  },
  {
   "cell_type": "code",
   "execution_count": null,
   "id": "d55ec2eb",
   "metadata": {},
   "outputs": [],
   "source": [
    "today_str = datetime.today().strftime('%Y-%m-%dT%H-%M-%S')\n",
    "\n",
    "base_path = Path(r'C:\\Users\\ikahbasi\\Documents\\Merged_All_DataSets_2025-07-10 (Ahar-Ilam-Kaki-Qeshm)')\n",
    "metadata_path = base_path / \"metadata.csv\"\n",
    "waveforms_path = base_path / \"waveforms.hdf5\""
   ]
  },
  {
   "cell_type": "code",
   "execution_count": null,
   "id": "eded1698",
   "metadata": {},
   "outputs": [],
   "source": [
    "with WaveformDataWriter(metadata_path=metadata_path,\n",
    "                        waveforms_path=waveforms_path) as writer:\n",
    "    writer.data_format = {\n",
    "        \"dimension_order\":     cfg.mk_dataset.parameters.dimension_order,\n",
    "        \"component_order\":     cfg.mk_dataset.parameters.component_order,\n",
    "        \"sampling_rate\":       cfg.mk_dataset.parameters.sampling_rate,\n",
    "        \"measurement\":         cfg.mk_dataset.parameters.measurement,\n",
    "        \"unit\":                cfg.mk_dataset.parameters.unit,\n",
    "        \"instrument_response\": cfg.mk_dataset.parameters.instrument_response,\n",
    "    }\n",
    "    for idx in range(len(combined_dataset)):\n",
    "        waveform, metadata = combined_dataset.get_sample(idx)\n",
    "        del metadata['trace_name']\n",
    "        del metadata['index']\n",
    "        writer.add_trace(metadata=metadata, waveform=waveform)"
   ]
  }
 ],
 "metadata": {
  "kernelspec": {
   "display_name": "seisbench_gpu",
   "language": "python",
   "name": "python3"
  },
  "language_info": {
   "codemirror_mode": {
    "name": "ipython",
    "version": 3
   },
   "file_extension": ".py",
   "mimetype": "text/x-python",
   "name": "python",
   "nbconvert_exporter": "python",
   "pygments_lexer": "ipython3",
   "version": "3.12.9"
  }
 },
 "nbformat": 4,
 "nbformat_minor": 5
}
