{
 "cells": [
  {
   "cell_type": "code",
   "execution_count": null,
   "id": "75e4f1c1",
   "metadata": {},
   "outputs": [],
   "source": [
    "from seisbench.data import WaveformDataset"
   ]
  },
  {
   "cell_type": "code",
   "execution_count": null,
   "id": "1e874e8e",
   "metadata": {},
   "outputs": [],
   "source": [
    "dataset1 = WaveformDataset(r'X:\\DataSets-Local\\Ahar-Dataset_2025-04-19T10-37-48',\n",
    "                           component_order=\"ZNE\")\n",
    "dataset1.metadata['station_network_code'] = 'AH'\n",
    "dataset1.metadata['network'] = 'Ahar'"
   ]
  },
  {
   "cell_type": "code",
   "execution_count": null,
   "id": "20498863",
   "metadata": {},
   "outputs": [],
   "source": [
    "dataset2 = WaveformDataset(r'X:\\DataSets-Local\\Ilam-Dataset_2025-04-13T12-42-42',\n",
    "                           component_order=\"ZNE\")\n",
    "dataset2.metadata['station_network_code'] = 'IL'\n",
    "dataset2.metadata['network'] = 'Ilam'"
   ]
  },
  {
   "cell_type": "code",
   "execution_count": null,
   "id": "375c04b1",
   "metadata": {},
   "outputs": [],
   "source": [
    "dataset3 = WaveformDataset(r'X:\\DataSets-Local\\Kaki-Dataset_2025-04-23T11-38-30',\n",
    "                           component_order=\"ZNE\")\n",
    "dataset3.metadata['station_network_code'] = 'KK'\n",
    "dataset3.metadata['network'] = 'Kaki'"
   ]
  },
  {
   "cell_type": "code",
   "execution_count": null,
   "id": "481ebb94",
   "metadata": {},
   "outputs": [],
   "source": [
    "dataset4 = WaveformDataset(r'X:\\DataSets-Local\\Qeshm-Dataset_2025-04-12T14-50-37',\n",
    "                           component_order=\"ZNE\")\n",
    "dataset4.metadata['station_network_code'] = 'QM'\n",
    "dataset4.metadata['network'] = 'Qeshm'"
   ]
  },
  {
   "cell_type": "code",
   "execution_count": null,
   "id": "a290db33",
   "metadata": {},
   "outputs": [],
   "source": [
    "from seisbench.data import MultiWaveformDataset"
   ]
  },
  {
   "cell_type": "code",
   "execution_count": null,
   "id": "65676736",
   "metadata": {},
   "outputs": [],
   "source": [
    "combined_dataset = MultiWaveformDataset([dataset1, dataset2, dataset3, dataset4])"
   ]
  },
  {
   "cell_type": "code",
   "execution_count": null,
   "id": "2b86276b",
   "metadata": {},
   "outputs": [],
   "source": [
    "list(combined_dataset.metadata.keys())"
   ]
  },
  {
   "cell_type": "code",
   "execution_count": null,
   "id": "28d8f54b",
   "metadata": {},
   "outputs": [],
   "source": [
    "# duplicates = combined_dataset.metadata['trace_name'].duplicated()\n",
    "# combined_dataset.metadata[duplicates].head()\n"
   ]
  },
  {
   "cell_type": "code",
   "execution_count": null,
   "id": "903a0399",
   "metadata": {},
   "outputs": [],
   "source": [
    "from seisbench.data import WaveformDataWriter\n",
    "from pathlib import Path"
   ]
  },
  {
   "cell_type": "code",
   "execution_count": null,
   "id": "d55ec2eb",
   "metadata": {},
   "outputs": [],
   "source": [
    "base_path = Path(r'X:\\DataSets-Local\\Merged_All_DataSets_2025-04-23 (Ahar-Ilam-Kaki-Qeshm) 2')\n",
    "metadata_path = base_path / \"metadata.csv\"\n",
    "waveforms_path = base_path / \"waveforms.hdf5\""
   ]
  },
  {
   "cell_type": "code",
   "execution_count": null,
   "id": "eded1698",
   "metadata": {},
   "outputs": [],
   "source": [
    "with WaveformDataWriter(metadata_path=metadata_path,\n",
    "                        waveforms_path=waveforms_path) as writer:\n",
    "    for idx in range(len(combined_dataset)):\n",
    "        waveform, metadata = combined_dataset.get_sample(idx)\n",
    "        del metadata['trace_name']\n",
    "        del metadata['index']\n",
    "        writer.add_trace(metadata=metadata, waveform=waveform)"
   ]
  }
 ],
 "metadata": {
  "kernelspec": {
   "display_name": "seisbench",
   "language": "python",
   "name": "python3"
  },
  "language_info": {
   "codemirror_mode": {
    "name": "ipython",
    "version": 3
   },
   "file_extension": ".py",
   "mimetype": "text/x-python",
   "name": "python",
   "nbconvert_exporter": "python",
   "pygments_lexer": "ipython3",
   "version": "3.12.8"
  }
 },
 "nbformat": 4,
 "nbformat_minor": 5
}
