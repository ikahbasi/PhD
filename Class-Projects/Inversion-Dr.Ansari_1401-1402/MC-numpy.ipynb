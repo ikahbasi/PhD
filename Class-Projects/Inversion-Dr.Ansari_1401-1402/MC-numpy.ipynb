{
 "cells": [
  {
   "cell_type": "markdown",
   "metadata": {},
   "source": [
    "<center><h1>Montecarlo</center></h1>\n",
    "This code uses numpy to solve montecarlo solotion."
   ]
  },
  {
   "cell_type": "code",
   "execution_count": null,
   "metadata": {},
   "outputs": [],
   "source": [
    "import numpy as np\n",
    "import matplotlib.pyplot as plt"
   ]
  },
  {
   "cell_type": "code",
   "execution_count": null,
   "metadata": {},
   "outputs": [],
   "source": [
    "def func(x):\n",
    "    return (3*x**3) - (5*x**2) + (10*x) - 67"
   ]
  },
  {
   "cell_type": "code",
   "execution_count": null,
   "metadata": {},
   "outputs": [],
   "source": [
    "n_points = 100000000\n",
    "\n",
    "x = np.arange(-4, 6, 0.01)\n",
    "y = func(x=x)\n",
    "\n",
    "y_lim = [y.min(), y.max()]\n",
    "x_lim = [-4, 6]"
   ]
  },
  {
   "cell_type": "code",
   "execution_count": null,
   "metadata": {},
   "outputs": [],
   "source": [
    "x_random = np.random.uniform(low=x_lim[0], high=x_lim[1], size=n_points)\n",
    "x_random.sort()\n",
    "y_random = np.random.uniform(low=y_lim[0], high=y_lim[1], size=n_points)\n",
    "y_true = func(x_random)"
   ]
  },
  {
   "cell_type": "code",
   "execution_count": null,
   "metadata": {},
   "outputs": [],
   "source": [
    "%%timeit -r1 -n1\n",
    "# x_random = np.random.uniform(low=x_lim[0], high=x_lim[1], size=n_points)\n",
    "# x_random.sort()\n",
    "# y_random = np.random.uniform(low=y_lim[0], high=y_lim[1], size=n_points)\n",
    "# y_true = func(x_random)\n",
    "\n",
    "\n",
    "maxlim = y_true.copy()\n",
    "minlim = y_true.copy()\n",
    "maxlim[maxlim<0] = 0\n",
    "minlim[minlim>0] = 0\n",
    "# plt.plot(x_random, maxlim, 'r')\n",
    "# plt.plot(x_random, minlim, 'b')\n",
    "# plt.plot(x_random, y_true, 'k:')\n",
    "# print(minlim.size, y_random.size, maxlim.size)\n",
    "points_under_curve = np.logical_and(minlim<y_random, y_random<maxlim)\n",
    "points_under_curve = y_true[points_under_curve]\n",
    "points_under_curve = np.sign(points_under_curve)\n",
    "#\n",
    "n_points_under_curve = points_under_curve.sum()\n",
    "area_of_square = (x_lim[1]-x_lim[0]) * (y_lim[1]-y_lim[0])\n",
    "area_under_curve = (n_points_under_curve/n_points) * area_of_square\n",
    "print(n_points_under_curve, n_points, area_of_square)\n",
    "\n",
    "print(area_under_curve)"
   ]
  },
  {
   "cell_type": "code",
   "execution_count": null,
   "metadata": {},
   "outputs": [],
   "source": [
    "# %%timeit -r1 -n1\n",
    "# mask = y_true > 0\n",
    "# positive = y_random[mask] < y_true[mask]\n",
    "# positive = positive[positive>0]\n",
    "\n",
    "\n",
    "# mask = y_true < 0\n",
    "# negative = y_random[mask] > y_true[mask]\n",
    "# negative = negative[negative<0]\n",
    "\n",
    "# n_points_under_curve = positive.sum() + negative.sum()\n",
    "\n",
    "# area_of_square = (x_lim[1]-x_lim[0]) * (y_lim[1]-y_lim[0])\n",
    "\n",
    "# area_under_curve = (n_points_under_curve/n_points) * area_of_square\n",
    "# print(n_points_under_curve, n_points, area_of_square)\n",
    "# print(area_under_curve)"
   ]
  },
  {
   "cell_type": "code",
   "execution_count": null,
   "metadata": {},
   "outputs": [],
   "source": [
    "plt.plot(x, y, 'r')\n",
    "plt.hlines(0, -4, 6, 'k')\n",
    "plt.scatter(x_random, y_random)\n",
    "plt.fill_between(x=x_random,\n",
    "                 y1=0,\n",
    "                 y2=y_true,\n",
    "                 color='green',\n",
    "                 alpha=0.5)\n",
    "plt.show()"
   ]
  },
  {
   "cell_type": "code",
   "execution_count": null,
   "metadata": {},
   "outputs": [],
   "source": []
  }
 ],
 "metadata": {
  "kernelspec": {
   "display_name": "Python 3 (ipykernel)",
   "language": "python",
   "name": "python3"
  },
  "language_info": {
   "codemirror_mode": {
    "name": "ipython",
    "version": 3
   },
   "file_extension": ".py",
   "mimetype": "text/x-python",
   "name": "python",
   "nbconvert_exporter": "python",
   "pygments_lexer": "ipython3",
   "version": "3.10.6"
  }
 },
 "nbformat": 4,
 "nbformat_minor": 4
}
