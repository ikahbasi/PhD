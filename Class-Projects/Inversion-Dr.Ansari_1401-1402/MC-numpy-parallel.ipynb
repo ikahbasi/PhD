{
 "cells": [
  {
   "cell_type": "markdown",
   "metadata": {},
   "source": [
    "<center><h1>Montecarlo</center></h1>\n",
    "This code uses numpy to solve montecarlo solotion."
   ]
  },
  {
   "cell_type": "code",
   "execution_count": 2,
   "metadata": {},
   "outputs": [],
   "source": [
    "import numpy as np\n",
    "import matplotlib.pyplot as plt\n",
    "from multiprocessing import Pool"
   ]
  },
  {
   "cell_type": "code",
   "execution_count": 3,
   "metadata": {},
   "outputs": [],
   "source": [
    "def Func(x):\n",
    "    return (3*x**3) - (5*x**2) + (10*x) - 67"
   ]
  },
  {
   "cell_type": "code",
   "execution_count": 4,
   "metadata": {},
   "outputs": [],
   "source": [
    "n_points = 100000000\n",
    "\n",
    "x = np.arange(-4, 6, 0.01)\n",
    "y = Func(x=x)\n",
    "\n",
    "y_lim = [y.min(), y.max()]\n",
    "x_lim = [-4, 6]"
   ]
  },
  {
   "cell_type": "code",
   "execution_count": 6,
   "metadata": {},
   "outputs": [],
   "source": [
    "def Montecarlo(x_random, y_random):\n",
    "    y_true = Func(x=x_random)\n",
    "    maxlim = y_true.copy()\n",
    "    minlim = y_true.copy()\n",
    "    maxlim[maxlim<0] = 0\n",
    "    minlim[minlim>0] = 0\n",
    "    points_under_curve = np.logical_and(minlim<y_random, y_random<maxlim)\n",
    "    points_under_curve = y_true[points_under_curve]\n",
    "    points_under_curve = np.sign(points_under_curve)\n",
    "    n_points_under_curve = points_under_curve.sum()\n",
    "    return n_points_under_curve"
   ]
  },
  {
   "cell_type": "code",
   "execution_count": 5,
   "metadata": {},
   "outputs": [],
   "source": [
    "x_random = np.random.uniform(low=x_lim[0], high=x_lim[1], size=n_points)\n",
    "x_random.sort()\n",
    "y_random = np.random.uniform(low=y_lim[0], high=y_lim[1], size=n_points)"
   ]
  },
  {
   "cell_type": "code",
   "execution_count": 6,
   "metadata": {},
   "outputs": [
    {
     "name": "stdout",
     "output_type": "stream",
     "text": [
      "-3067231.0 100000000 8372.648969999418\n",
      "-256.8084847290029\n",
      "12.3 s ± 0 ns per loop (mean ± std. dev. of 1 run, 1 loop each)\n"
     ]
    }
   ],
   "source": [
    "%%timeit -r1 -n1\n",
    "with Pool() as p:\n",
    "    points_under_the_curve = p.starmap(Montecarlo, [(x_random, y_random)])\n",
    "n_points_under_curve = sum(points_under_the_curve)\n",
    "area_of_square = (x_lim[1]-x_lim[0]) * (y_lim[1]-y_lim[0])\n",
    "area_under_curve = (n_points_under_curve/n_points) * area_of_square\n",
    "print(n_points_under_curve, n_points, area_of_square)\n",
    "\n",
    "print(area_under_curve)"
   ]
  },
  {
   "cell_type": "code",
   "execution_count": null,
   "metadata": {},
   "outputs": [],
   "source": []
  },
  {
   "cell_type": "code",
   "execution_count": null,
   "metadata": {},
   "outputs": [],
   "source": [
    "%%timeit -r1 -n1\n",
    "def generate_random(n_points=100000000):\n",
    "    \"\"\"Generator function to yield input arrays\"\"\"\n",
    "    # Generate or load input arrays here\n",
    "    x_random = np.random.uniform(low=x_lim[0], high=x_lim[1], size=n_points)\n",
    "    x_random.sort()\n",
    "    y_random = np.random.uniform(low=y_lim[0], high=y_lim[1], size=n_points)\n",
    "    yield x_random, y_random\n",
    "\n",
    "with Pool() as p:\n",
    "    points_under_the_curve = p.starmap(Montecarlo, generate_random())\n",
    "print(points_under_the_curve)"
   ]
  },
  {
   "cell_type": "code",
   "execution_count": null,
   "metadata": {},
   "outputs": [],
   "source": []
  }
 ],
 "metadata": {
  "kernelspec": {
   "display_name": "Python 3 (ipykernel)",
   "language": "python",
   "name": "python3"
  },
  "language_info": {
   "codemirror_mode": {
    "name": "ipython",
    "version": 3
   },
   "file_extension": ".py",
   "mimetype": "text/x-python",
   "name": "python",
   "nbconvert_exporter": "python",
   "pygments_lexer": "ipython3",
   "version": "3.10.6"
  }
 },
 "nbformat": 4,
 "nbformat_minor": 4
}
