{
 "cells": [
  {
   "cell_type": "code",
   "execution_count": 1,
   "id": "12cf213b",
   "metadata": {},
   "outputs": [],
   "source": [
    "import numpy as np\n",
    "from numpy.linalg import inv\n",
    "from numpy import dot\n",
    "import scipy.io as sio\n",
    "import matplotlib.pyplot as plt\n",
    "import pandas as pd"
   ]
  },
  {
   "cell_type": "code",
   "execution_count": 2,
   "id": "50f73751",
   "metadata": {},
   "outputs": [],
   "source": [
    "data = pd.read_excel('data_sarpolzahab.xlsx')\n",
    "pga = data['PGA (cm/s2)'].values\n",
    "rj = data['R_jb (km)'].values\n",
    "vs_30 = data['Vs_30 (m/s)'].values\n",
    "\n",
    "Sa = np.zeros(vs_30.size)\n",
    "Ss = np.zeros(vs_30.size)\n",
    "\n",
    "msk = vs_30 < 360\n",
    "# sa[msk] = 0\n",
    "Ss[msk] = 1\n",
    "\n",
    "msk = np.logical_and(360<vs_30, vs_30<750)\n",
    "Sa[msk] = 1\n",
    "# ss[msk] = 0\n",
    "\n",
    "# msk = vs_30>750\n",
    "# sa[msk] = 0\n",
    "# ss[msk] = 0\n",
    "N = Sa.size"
   ]
  },
  {
   "cell_type": "code",
   "execution_count": 3,
   "id": "7942928d",
   "metadata": {},
   "outputs": [
    {
     "name": "stdout",
     "output_type": "stream",
     "text": [
      "[[1.         1.59106461 0.         1.        ]\n",
      " [1.         1.67209786 1.         0.        ]\n",
      " [1.         1.72427587 0.         1.        ]\n",
      " [1.         1.81954394 1.         0.        ]\n",
      " [1.         1.81954394 0.         1.        ]\n",
      " [1.         1.8260748  0.         0.        ]\n",
      " [1.         1.84509804 1.         0.        ]\n",
      " [1.         1.84509804 1.         0.        ]\n",
      " [1.         1.84509804 0.         0.        ]\n",
      " [1.         1.91907809 1.         0.        ]\n",
      " [1.         1.96848295 1.         0.        ]\n",
      " [1.         1.96848295 1.         0.        ]\n",
      " [1.         1.98227123 0.         0.        ]\n",
      " [1.         1.99122608 0.         1.        ]\n",
      " [1.         2.00432137 1.         0.        ]\n",
      " [1.         2.02530587 1.         0.        ]\n",
      " [1.         2.05307844 0.         1.        ]\n",
      " [1.         2.05690485 0.         1.        ]\n",
      " [1.         2.06445799 0.         1.        ]\n",
      " [1.         2.07918125 1.         0.        ]\n",
      " [1.         2.08635983 1.         0.        ]\n",
      " [1.         2.09691001 1.         0.        ]\n",
      " [1.         2.09691001 1.         0.        ]\n",
      " [1.         2.09691001 0.         0.        ]\n",
      " [1.         2.10037055 0.         1.        ]\n",
      " [1.         2.1172713  0.         0.        ]\n",
      " [1.         2.13987909 1.         0.        ]\n",
      " [1.         2.15533604 0.         1.        ]\n",
      " [1.         2.16435286 0.         1.        ]\n",
      " [1.         2.17897695 1.         0.        ]\n",
      " [1.         2.18752072 0.         1.        ]\n",
      " [1.         2.18752072 0.         1.        ]\n",
      " [1.         2.18752072 0.         0.        ]\n",
      " [1.         2.1903317  0.         0.        ]\n",
      " [1.         2.20139712 0.         1.        ]\n",
      " [1.         2.20682588 0.         0.        ]\n",
      " [1.         2.20682588 1.         0.        ]\n",
      " [1.         2.20951501 0.         0.        ]\n",
      " [1.         2.20951501 0.         0.        ]\n",
      " [1.         2.2121876  1.         0.        ]\n",
      " [1.         2.22010809 0.         1.        ]\n",
      " [1.         2.22010809 1.         0.        ]\n",
      " [1.         2.23044892 0.         1.        ]\n",
      " [1.         2.24303805 0.         1.        ]\n",
      " [1.         2.26717173 1.         0.        ]\n",
      " [1.         2.2764618  0.         0.        ]\n",
      " [1.         2.2764618  0.         0.        ]\n",
      " [1.         2.28103337 1.         0.        ]\n",
      " [1.         2.28330123 0.         0.        ]\n",
      " [1.         2.29446623 0.         1.        ]]\n",
      "[ 4.6883825  -1.52149415  0.16918781  0.13195647]\n"
     ]
    },
    {
     "data": {
      "text/plain": [
       "[<matplotlib.lines.Line2D at 0x7eff176de110>]"
      ]
     },
     "execution_count": 3,
     "metadata": {},
     "output_type": "execute_result"
    },
    {
     "data": {
      "image/png": "[encoded data removed]",
      "text/plain": [
       "<Figure size 432x288 with 1 Axes>"
      ]
     },
     "metadata": {
      "needs_background": "light"
     },
     "output_type": "display_data"
    }
   ],
   "source": [
    "#Build the parabolic system matrix\n",
    "G = np.ones(shape=(N, 4))\n",
    "G[:, 1] = np.log10(rj)\n",
    "G[:, 2] =  Ss\n",
    "G[:,3] = Sa\n",
    "print(G)\n",
    "\n",
    "#solving least square\n",
    "y = np.log10(pga)\n",
    "m_l1 = np.linalg.inv(np.dot(G.T, G))\n",
    "m_l2 = np.dot(G.T, y)\n",
    "ml = np.dot(m_l1, m_l2)\n",
    "print(ml)\n",
    "r_1 = (y-np.dot(G,ml))\n",
    "plt.plot(r_1,'o')\n",
    "# plt.hist(r_1)"
   ]
  },
  {
   "cell_type": "code",
   "execution_count": 4,
   "id": "dd8e8086",
   "metadata": {},
   "outputs": [
    {
     "name": "stdout",
     "output_type": "stream",
     "text": [
      "0.3221304321800436\n"
     ]
    }
   ],
   "source": [
    "r = (y-np.dot(G,ml))\n",
    "\n",
    "#degree_of_freedom=dof\n",
    "dof = N - 4\n",
    "\n",
    "norm_r = np.linalg.norm(r)\n",
    "std = norm_r / np.sqrt(dof)\n",
    "print(std)\n"
   ]
  },
  {
   "cell_type": "code",
   "execution_count": 5,
   "id": "51337e67",
   "metadata": {},
   "outputs": [
    {
     "name": "stdout",
     "output_type": "stream",
     "text": [
      "1000\n"
     ]
    },
    {
     "name": "stderr",
     "output_type": "stream",
     "text": [
      "/tmp/ipykernel_9957/3326479009.py:8: FutureWarning: `rcond` parameter will change to the default of machine precision times ``max(M, N)`` where M and N are the input matrix dimensions.\n",
      "To use the future default and silence this warning we advise to pass `rcond=None`, to keep using the old, explicitly pass `rcond=-1`.\n",
      "  mmc[nreal, :] = np.linalg.lstsq(G, ytrial)[0]\n"
     ]
    }
   ],
   "source": [
    "# Monte Carlo Section\n",
    "y0 = np.dot(G, ml) \n",
    "chimc = np.zeros(1000)\n",
    "mmc = np.zeros((1000, 4))\n",
    "r_mmc = []\n",
    "for nreal in range(0, 1000):\n",
    "    ytrial = y0 + np.random.randn(N)\n",
    "    mmc[nreal, :] = np.linalg.lstsq(G, ytrial)[0]\n",
    "    chimc[nreal]= np.linalg.norm((np.dot(G, mmc[nreal,:])-ytrial)) ** 2\n",
    "    r_mmc.append((np.linalg.norm(ytrial - np.dot(G, mmc[nreal])))**2)\n",
    "print(len(r_mmc))"
   ]
  },
  {
   "cell_type": "code",
   "execution_count": 6,
   "id": "c9b830b3",
   "metadata": {},
   "outputs": [
    {
     "data": {
      "image/png": "[encoded data removed]",
      "text/plain": [
       "<Figure size 432x288 with 1 Axes>"
      ]
     },
     "metadata": {
      "needs_background": "light"
     },
     "output_type": "display_data"
    }
   ],
   "source": [
    "fig1 = plt.figure()\n",
    "# plt.hist(chimc, 30)\n",
    "plt.hist(r_mmc)\n",
    "mean = np.mean(r_mmc)\n"
   ]
  },
  {
   "cell_type": "code",
   "execution_count": 8,
   "id": "bbf5aa63",
   "metadata": {},
   "outputs": [
    {
     "name": "stdout",
     "output_type": "stream",
     "text": [
      "Displaying Monte-Carlo Model Histograms\n",
      "std 1.7573635157423708, 0.8133036473123926, 0.3641103416264466, 0.36980997546790323\n",
      "mean 4.7775527883636615, -1.5584638958974715, 0.16027243441979158, 0.1178717299211641\n"
     ]
    },
    {
     "data": {
      "image/png": "[encoded data removed]",
      "text/plain": [
       "<Figure size 648x216 with 4 Axes>"
      ]
     },
     "metadata": {
      "needs_background": "light"
     },
     "output_type": "display_data"
    }
   ],
   "source": [
    "###Plot the histograms of the model parameters\n",
    "fig3, axs = plt.subplots(1, 4, figsize=(9, 3))\n",
    "\n",
    "ax1, ax2, ax3,ax4 = axs\n",
    "\n",
    "ax1.hist(mmc[:, 0])\n",
    "std_1 = mmc[:, 0].std()\n",
    "mean_1 = mmc[:, 0].mean()\n",
    "\n",
    "ax2.hist(mmc[:, 1])\n",
    "std_2 = mmc[:, 1].std()\n",
    "mean_2 = mmc[:, 1].mean()\n",
    "\n",
    "ax3.hist(mmc[:, 2])\n",
    "std_3 = mmc[:, 2].std()\n",
    "mean_3 = mmc[:, 2].mean()\n",
    "\n",
    "ax4.hist(mmc[:, 3])\n",
    "std_4 = mmc[:, 3].std()\n",
    "mean_4 = mmc[:, 3].mean()\n",
    "print('Displaying Monte-Carlo Model Histograms')\n",
    "print(f\"std {std_1}, {std_2}, {std_3}, {std_4}\")\n",
    "print(f\"mean {mean_1}, {mean_2}, {mean_3}, {mean_4}\")\n"
   ]
  },
  {
   "cell_type": "code",
   "execution_count": null,
   "id": "81859107",
   "metadata": {},
   "outputs": [],
   "source": []
  },
  {
   "cell_type": "code",
   "execution_count": null,
   "id": "a89a03e1",
   "metadata": {},
   "outputs": [],
   "source": []
  },
  {
   "cell_type": "code",
   "execution_count": null,
   "id": "aae07474",
   "metadata": {},
   "outputs": [],
   "source": []
  }
 ],
 "metadata": {
  "kernelspec": {
   "display_name": "Python 3 (ipykernel)",
   "language": "python",
   "name": "python3"
  },
  "language_info": {
   "codemirror_mode": {
    "name": "ipython",
    "version": 3
   },
   "file_extension": ".py",
   "mimetype": "text/x-python",
   "name": "python",
   "nbconvert_exporter": "python",
   "pygments_lexer": "ipython3",
   "version": "3.10.6"
  }
 },
 "nbformat": 4,
 "nbformat_minor": 5
}
