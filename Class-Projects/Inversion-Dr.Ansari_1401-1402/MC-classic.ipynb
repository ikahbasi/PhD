{
 "cells": [
  {
   "cell_type": "markdown",
   "metadata": {},
   "source": [
    "<center><h1>Montecarlo</center></h1>\n",
    "Import library"
   ]
  },
  {
   "cell_type": "code",
   "execution_count": 2,
   "metadata": {},
   "outputs": [],
   "source": [
    "import matplotlib.pyplot as plt\n",
    "from multiprocessing import Pool\n",
    "import random as rd\n",
    "import numpy as np"
   ]
  },
  {
   "cell_type": "code",
   "execution_count": 3,
   "metadata": {},
   "outputs": [],
   "source": [
    "def Func1(x):\n",
    "    return (3*x**3) - (5*x**2) + (10*x) - 67\n",
    "\n",
    "\n",
    "def Montecarlo(xlim, ylim):\n",
    "    selected_points = 0\n",
    "    x_random = rd.uniform(xlim[0], xlim[1])\n",
    "    y_random = rd.uniform(ylim[0], ylim[1])\n",
    "    y_true   = Func1(x_random)\n",
    "    if min(0, y_true) <= y_random <= max(0, y_true):\n",
    "        selected_points = 1\n",
    "    return selected_points * np.sign(y_true)\n",
    "        \n",
    "def Run(n):\n",
    "    return Montecarlo(xlim, ylim)"
   ]
  },
  {
   "cell_type": "code",
   "execution_count": 4,
   "metadata": {},
   "outputs": [
    {
     "name": "stdout",
     "output_type": "stream",
     "text": [
      "-260.8660000001033\n"
     ]
    }
   ],
   "source": [
    "n_points = 10000000\n",
    "xlim = [-4, 6]\n",
    "\n",
    "x = np.arange(xlim[0], xlim[1], 0.01)\n",
    "y = Func1(x=x)\n",
    "area = np.mean(y) * (xlim[1]-xlim[0])\n",
    "print(area)\n",
    "ylim = [y.min(), y.max()]\n",
    "\n",
    "area_of_square = (xlim[1]-xlim[0]) * (ylim[1]-ylim[0])"
   ]
  },
  {
   "cell_type": "code",
   "execution_count": null,
   "metadata": {},
   "outputs": [],
   "source": [
    "%%timeit -r1 -n1\n",
    "ii = 0\n",
    "points_under_curve = np.zeros(n_points, dtype=np.int32)\n",
    "while ii < n_points:\n",
    "    points_under_curve[ii] = Montecarlo(xlim=xlim, ylim=ylim)\n",
    "    ii += 1\n",
    "n_points_under_curve = points_under_curve.sum()\n",
    "#\n",
    "area_under_curve = (n_points_under_curve/n_points) * area_of_square\n",
    "print(area_under_curve)"
   ]
  },
  {
   "cell_type": "markdown",
   "metadata": {},
   "source": [
    "<h3>Parallel<h3/>"
   ]
  },
  {
   "cell_type": "code",
   "execution_count": null,
   "metadata": {},
   "outputs": [],
   "source": [
    "def Run(n):\n",
    "    return Montecarlo(xlim, ylim)"
   ]
  },
  {
   "cell_type": "code",
   "execution_count": null,
   "metadata": {},
   "outputs": [],
   "source": [
    "%%timeit -r1 -n1\n",
    "with Pool() as p:\n",
    "    points_under_the_curve = p.map(Run, range(n_points))\n",
    "n_points_under_curve = sum(points_under_the_curve)\n",
    "area_under_curve = (n_points_under_curve/n_points) * area_of_square\n",
    "print(area_under_curve)"
   ]
  }
 ],
 "metadata": {
  "kernelspec": {
   "display_name": "Python 3 (ipykernel)",
   "language": "python",
   "name": "python3"
  },
  "language_info": {
   "codemirror_mode": {
    "name": "ipython",
    "version": 3
   },
   "file_extension": ".py",
   "mimetype": "text/x-python",
   "name": "python",
   "nbconvert_exporter": "python",
   "pygments_lexer": "ipython3",
   "version": "3.10.6"
  }
 },
 "nbformat": 4,
 "nbformat_minor": 4
}
