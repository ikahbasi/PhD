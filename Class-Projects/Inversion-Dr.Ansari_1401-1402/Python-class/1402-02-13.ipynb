{
 "cells": [
  {
   "cell_type": "markdown",
   "id": "a3368aab",
   "metadata": {},
   "source": [
    "<center><h1>Python Course</h1></center>\n",
    "<center><h3>Iman Kahbasi</h3></center>\n",
    "<center><h5>1402-02-13</h5></center>"
   ]
  },
  {
   "cell_type": "markdown",
   "id": "945c164c",
   "metadata": {},
   "source": [
    "<center><h2>Jupyter Notebook</h2></center>\n",
    "\n",
    "User@PC-name:~/home$ jupyter-notebook "
   ]
  },
  {
   "cell_type": "markdown",
   "id": "93bd1d2a",
   "metadata": {},
   "source": [
    "<center><h2>google colab</h2></center>\n",
    "\n",
    "https://colab.research.google.com\n",
    "\n",
    "!pip install obspy"
   ]
  },
  {
   "cell_type": "markdown",
   "id": "c04063ac",
   "metadata": {},
   "source": [
    "<center><h2>Matlab to Python</h2></center>\n",
    "\n",
    "$f[1]$ or $f(1)$ ???\n",
    "\n",
    "1) In Python, when making selections from objects such as lists, dictionaries, and strings, use square brackets to indicate the selection.\n",
    "\n",
    "2) To call a function or method in Python, use parentheses.\n",
    "\n",
    "\n",
    "\n",
    "Matlab: [1 2 3 4 5 6]\n",
    "\n",
    "Python: [1, 2, 3, 4, 5, 6]"
   ]
  },
  {
   "cell_type": "markdown",
   "id": "78b7830e",
   "metadata": {},
   "source": [
    "<center><h2>Variables</h2></center>\n",
    "\n",
    "In Python, there are several types of variables:\n",
    "\n",
    "1. Integer: An integer is a whole number, either positive or negative, without a decimal point. For example: `x = 5`\n",
    "\n",
    "2. Float: A float is a number with a decimal point. For example: `y = 3.14`\n",
    "\n",
    "3. String: A string is a sequence of characters enclosed in quotation marks. For example: `name = \"Alice\"`\n",
    "\n",
    "4. Boolean: A boolean is a value that is either `True` or `False`. For example: `is_sunny = True`\n",
    "\n",
    "5. List: A list is an ordered collection of elements enclosed in square brackets, where each element can be of any data type. For example: `numbers = [1, 2, 3]`\n",
    "\n",
    "6. Tuple: A tuple is an ordered collection of elements enclosed in parentheses, where each element can be of any data type. However, unlike a list, a tuple is immutable, meaning it cannot be changed once it is created. For example: `coordinates = (3, 4)`\n",
    "\n",
    "7. Dictionary: A dictionary is an unordered collection of key-value pairs enclosed in curly braces. Each key-value pair represents a mapping between the key and the value. For example: `person = {\"name\": \"Bob\", \"age\": 30}`\n",
    "\n",
    "8. Set: A set is an unordered collection of unique elements enclosed in curly braces. For example: `unique_numbers = {1, 2, 3}`\n",
    "\n",
    "Note that Python is a dynamically typed language, meaning that variables can change type during runtime. Therefore, the type of a variable is determined by the value it holds at a given time."
   ]
  },
  {
   "cell_type": "code",
   "execution_count": 1,
   "id": "49b5e930",
   "metadata": {},
   "outputs": [],
   "source": [
    "x = 42 # int()\n",
    "\n",
    "y = 3.14 # float()\n",
    "\n",
    "name = \"AliCe\" #str()\n",
    "\n",
    "is_sunny = True\n",
    "\n",
    "numbers = [1, 2, 3, 4, 5, 6, 7, 8, 9, 10] # list()\n",
    "\n",
    "coordinates = (3, 4) \n",
    "\n",
    "person = {\"name\": \"Bob\", \"age\": 30}\n",
    "\n",
    "unique_numbers = {1, 2, 3, 3, 3, 3, 3, 3} # set\n",
    "\n",
    "names_age = {\"John\": 25, \"Jane\": 30, \"Bob\": 35}"
   ]
  },
  {
   "cell_type": "code",
   "execution_count": 2,
   "id": "8ba841d0",
   "metadata": {},
   "outputs": [
    {
     "data": {
      "text/plain": [
       "True"
      ]
     },
     "execution_count": 2,
     "metadata": {},
     "output_type": "execute_result"
    }
   ],
   "source": [
    "name == 'AliCe'"
   ]
  },
  {
   "cell_type": "code",
   "execution_count": 3,
   "id": "c5a65292",
   "metadata": {},
   "outputs": [
    {
     "name": "stdout",
     "output_type": "stream",
     "text": [
      "<class 'str'>\n",
      "5.140000000000001\n"
     ]
    }
   ],
   "source": [
    "x = '3.14'\n",
    "print(type(x))\n",
    "x = float(x)\n",
    "print(x+2)"
   ]
  },
  {
   "cell_type": "code",
   "execution_count": 28,
   "id": "6a858476",
   "metadata": {},
   "outputs": [
    {
     "name": "stdout",
     "output_type": "stream",
     "text": [
      "{1, 2, 3}\n"
     ]
    }
   ],
   "source": [
    "a = [1, 2, 3, 3, 3, 3, 3, 3] # set\n",
    "print(set(a))"
   ]
  },
  {
   "cell_type": "markdown",
   "id": "c7657d1c",
   "metadata": {},
   "source": [
    "<center><h2>making selections from objects such as lists, dictionaries, and strings, use square brackets</h2></center>"
   ]
  },
  {
   "cell_type": "code",
   "execution_count": 2,
   "id": "eeec001b",
   "metadata": {},
   "outputs": [
    {
     "name": "stdout",
     "output_type": "stream",
     "text": [
      "1\n",
      "9\n"
     ]
    }
   ],
   "source": [
    "print(numbers[0])\n",
    "print(numbers[-2])"
   ]
  },
  {
   "cell_type": "code",
   "execution_count": 5,
   "id": "3726dd2f",
   "metadata": {},
   "outputs": [
    {
     "name": "stdout",
     "output_type": "stream",
     "text": [
      "A\n",
      "C\n"
     ]
    }
   ],
   "source": [
    "print(name[0])\n",
    "print(name[-2])"
   ]
  },
  {
   "cell_type": "code",
   "execution_count": 9,
   "id": "422393a5",
   "metadata": {},
   "outputs": [
    {
     "name": "stdout",
     "output_type": "stream",
     "text": [
      "Bob\n"
     ]
    }
   ],
   "source": [
    "print(person['name'])"
   ]
  },
  {
   "cell_type": "code",
   "execution_count": 15,
   "id": "278da651",
   "metadata": {},
   "outputs": [
    {
     "name": "stdout",
     "output_type": "stream",
     "text": [
      "2\n"
     ]
    }
   ],
   "source": [
    "print(list(unique_numbers)[1])"
   ]
  },
  {
   "cell_type": "code",
   "execution_count": 29,
   "id": "52e89b94",
   "metadata": {
    "scrolled": true
   },
   "outputs": [
    {
     "name": "stdout",
     "output_type": "stream",
     "text": [
      "[2, 3, 4, 5]\n"
     ]
    }
   ],
   "source": [
    "print(numbers[1:5])"
   ]
  },
  {
   "cell_type": "code",
   "execution_count": 31,
   "id": "4aa818f3",
   "metadata": {},
   "outputs": [
    {
     "name": "stdout",
     "output_type": "stream",
     "text": [
      "[1, 2, 3, 4, 5, 6, 7, 8, 9, 10]\n",
      "[2, 3, 4, 5, 6, 7, 8]\n"
     ]
    }
   ],
   "source": [
    "print(numbers)\n",
    "print(numbers[1:-2])"
   ]
  },
  {
   "cell_type": "code",
   "execution_count": 37,
   "id": "6fcf3ffa",
   "metadata": {},
   "outputs": [
    {
     "name": "stdout",
     "output_type": "stream",
     "text": [
      "[2, 4, 6, 8]\n"
     ]
    }
   ],
   "source": [
    "print(numbers[1:9:2])"
   ]
  },
  {
   "cell_type": "code",
   "execution_count": null,
   "id": "38fa137b",
   "metadata": {},
   "outputs": [],
   "source": [
    "print(numbers[::2])"
   ]
  },
  {
   "cell_type": "code",
   "execution_count": 41,
   "id": "5bb05c39",
   "metadata": {},
   "outputs": [
    {
     "name": "stdout",
     "output_type": "stream",
     "text": [
      "[10, 9, 8, 7, 6, 5, 4, 3, 2, 1]\n"
     ]
    }
   ],
   "source": [
    "print(numbers[::-1])"
   ]
  },
  {
   "cell_type": "code",
   "execution_count": 42,
   "id": "304af8b6",
   "metadata": {},
   "outputs": [
    {
     "name": "stdout",
     "output_type": "stream",
     "text": [
      "[1, 2, 999, 4, 5, 6, 7, 8, 9, 10]\n"
     ]
    }
   ],
   "source": [
    "numbers[2] = 999\n",
    "print(numbers)"
   ]
  },
  {
   "cell_type": "code",
   "execution_count": 43,
   "id": "309db325",
   "metadata": {},
   "outputs": [
    {
     "name": "stdout",
     "output_type": "stream",
     "text": [
      "[1, 2, 999, 998, 997, 6, 7, 8, 9, 10]\n"
     ]
    }
   ],
   "source": [
    "numbers[2:5] = [999, 998, 997]\n",
    "print(numbers)"
   ]
  },
  {
   "cell_type": "code",
   "execution_count": 47,
   "id": "8983a475",
   "metadata": {},
   "outputs": [
    {
     "name": "stdout",
     "output_type": "stream",
     "text": [
      "<class 'numpy.ndarray'>\n"
     ]
    }
   ],
   "source": [
    "import numpy as np\n",
    "arr = np.array(numbers)\n",
    "print(type(arr))"
   ]
  },
  {
   "cell_type": "code",
   "execution_count": 48,
   "id": "e8dcbd6d",
   "metadata": {},
   "outputs": [
    {
     "name": "stdout",
     "output_type": "stream",
     "text": [
      "1\n",
      "[7 8 9]\n"
     ]
    }
   ],
   "source": [
    "print(arr[0])\n",
    "print(arr[-4:-1])"
   ]
  },
  {
   "cell_type": "code",
   "execution_count": 49,
   "id": "63be66f3",
   "metadata": {},
   "outputs": [
    {
     "data": {
      "text/plain": [
       "array([999])"
      ]
     },
     "execution_count": 49,
     "metadata": {},
     "output_type": "execute_result"
    }
   ],
   "source": [
    "arr[np.array([False, False, True, False, False, False, False, False, False, False])]"
   ]
  },
  {
   "cell_type": "code",
   "execution_count": 69,
   "id": "7decb6ce",
   "metadata": {},
   "outputs": [
    {
     "name": "stdout",
     "output_type": "stream",
     "text": [
      "[  1   2 999 998 997   6   7   8   9  10]\n",
      "[False False  True  True  True False False False False False]\n"
     ]
    }
   ],
   "source": [
    "print(arr)\n",
    "print(arr>20)"
   ]
  },
  {
   "cell_type": "code",
   "execution_count": 92,
   "id": "d95fecaf",
   "metadata": {
    "scrolled": false
   },
   "outputs": [
    {
     "name": "stdout",
     "output_type": "stream",
     "text": [
      "[False False False False False  True  True  True  True  True]\n"
     ]
    }
   ],
   "source": [
    "msk = arr > 5\n",
    "print(msk)"
   ]
  },
  {
   "cell_type": "code",
   "execution_count": 87,
   "id": "ba4f9360",
   "metadata": {},
   "outputs": [
    {
     "name": "stdout",
     "output_type": "stream",
     "text": [
      "[1, 8, 9, 10]\n"
     ]
    }
   ],
   "source": [
    "numbers.pop(1)\n",
    "print(numbers)"
   ]
  },
  {
   "cell_type": "code",
   "execution_count": 94,
   "id": "683f76a2",
   "metadata": {},
   "outputs": [
    {
     "name": "stdout",
     "output_type": "stream",
     "text": [
      "[1 2 0 0 0]\n"
     ]
    }
   ],
   "source": [
    "print(arr[~msk])"
   ]
  },
  {
   "cell_type": "code",
   "execution_count": 95,
   "id": "115accd7",
   "metadata": {},
   "outputs": [
    {
     "name": "stdout",
     "output_type": "stream",
     "text": [
      "[ 1  2  0  0  0 10 10 10 10 10]\n"
     ]
    }
   ],
   "source": [
    "arr[msk] = 10\n",
    "print(arr)"
   ]
  },
  {
   "cell_type": "code",
   "execution_count": 102,
   "id": "6ae1fb74",
   "metadata": {},
   "outputs": [
    {
     "name": "stdout",
     "output_type": "stream",
     "text": [
      "[0 1 2 3 4 5 6 7 8 9]\n",
      "[40 41 42 43 44 45 46 47 48 49]\n",
      "arr1=array([   0,    1,    2,    3,    4,    5, -999, -999, -999, -999])\n",
      "[40 41 42 43 44 45 46 47 48 49]\n"
     ]
    }
   ],
   "source": [
    "arr1 = np.arange(10)\n",
    "arr2 = np.arange(40, 50)\n",
    "print(arr1)\n",
    "print(arr2)\n",
    "#\n",
    "msk = arr2 > 45\n",
    "arr1[msk] = -999\n",
    "print(f'{arr1=}')\n",
    "print(arr2)"
   ]
  },
  {
   "cell_type": "code",
   "execution_count": 103,
   "id": "75539347",
   "metadata": {},
   "outputs": [
    {
     "name": "stdout",
     "output_type": "stream",
     "text": [
      "(4,) \n",
      " [1 2 3 4]\n",
      "(1, 4) \n",
      " [[1 2 3 4]]\n"
     ]
    }
   ],
   "source": [
    "arr1 = np.array([1, 2, 3, 4])\n",
    "arr2 = np.array([[1, 2, 3, 4]])\n",
    "print(arr1.shape, '\\n', arr1)\n",
    "print(arr2.shape, '\\n', arr2)"
   ]
  },
  {
   "cell_type": "code",
   "execution_count": 104,
   "id": "a6bf3c95",
   "metadata": {},
   "outputs": [
    {
     "name": "stdout",
     "output_type": "stream",
     "text": [
      "[1 2 3 4]\n"
     ]
    }
   ],
   "source": [
    "print(arr1.T)"
   ]
  },
  {
   "cell_type": "code",
   "execution_count": 105,
   "id": "a2dce284",
   "metadata": {},
   "outputs": [
    {
     "name": "stdout",
     "output_type": "stream",
     "text": [
      "[[1]\n",
      " [2]\n",
      " [3]\n",
      " [4]]\n"
     ]
    }
   ],
   "source": [
    "print(arr2.T)"
   ]
  },
  {
   "cell_type": "code",
   "execution_count": 115,
   "id": "083a82a6",
   "metadata": {},
   "outputs": [
    {
     "name": "stdout",
     "output_type": "stream",
     "text": [
      "[[1 2]\n",
      " [3 4]]\n"
     ]
    }
   ],
   "source": [
    "print(arr1.reshape((-1, 2)))"
   ]
  },
  {
   "cell_type": "code",
   "execution_count": 120,
   "id": "93e11fe5",
   "metadata": {},
   "outputs": [
    {
     "name": "stdout",
     "output_type": "stream",
     "text": [
      "[[ 0  1  2  3  4  5  6  7  8  9]\n",
      " [10 11 12 13 14 15 16 17 18 19]\n",
      " [20 21 22 23 24 25 26 27 28 29]\n",
      " [30 31 32 33 34 35 36 37 38 39]\n",
      " [40 41 42 43 44 45 46 47 48 49]\n",
      " [50 51 52 53 54 55 56 57 58 59]\n",
      " [60 61 62 63 64 65 66 67 68 69]\n",
      " [70 71 72 73 74 75 76 77 78 79]\n",
      " [80 81 82 83 84 85 86 87 88 89]\n",
      " [90 91 92 93 94 95 96 97 98 99]]\n"
     ]
    }
   ],
   "source": [
    "arr3 = np.arange(100)\n",
    "# print(arr3)\n",
    "print(arr3.reshape(-1, 10))"
   ]
  },
  {
   "cell_type": "markdown",
   "id": "d958b6e1",
   "metadata": {},
   "source": [
    "<center><h2>Numpy vs List</h2></center>\n"
   ]
  },
  {
   "cell_type": "code",
   "execution_count": 122,
   "id": "42414092",
   "metadata": {},
   "outputs": [
    {
     "name": "stdout",
     "output_type": "stream",
     "text": [
      "<class 'list'>\n",
      "[1, 2, 3, 4, 5, 6]\n"
     ]
    }
   ],
   "source": [
    "l1 = [1, 2, 3]\n",
    "l2 = [4, 5, 6]\n",
    "print(type(l1))\n",
    "print(l1+l2)"
   ]
  },
  {
   "cell_type": "code",
   "execution_count": 123,
   "id": "056acf45",
   "metadata": {},
   "outputs": [
    {
     "name": "stdout",
     "output_type": "stream",
     "text": [
      "[5 7 9]\n"
     ]
    }
   ],
   "source": [
    "a1 = np.array([1, 2, 3])\n",
    "a2 = np.array([4, 5, 6])\n",
    "print(a1+a2)"
   ]
  },
  {
   "cell_type": "code",
   "execution_count": null,
   "id": "2de419b4",
   "metadata": {},
   "outputs": [],
   "source": [
    "def Func(x):\n",
    "    return (x+2)**2\n",
    "\n",
    "lst = []\n",
    "for ii in range(10):\n",
    "    a = Func(x=ii)\n",
    "    lst.append(a)\n",
    "print(lst)"
   ]
  },
  {
   "cell_type": "code",
   "execution_count": null,
   "id": "d3926b57",
   "metadata": {},
   "outputs": [],
   "source": [
    "arr = np.zeros(10)\n",
    "for ii in range(10):\n",
    "    a = Func(x=ii)\n",
    "    arr[ii] = a\n",
    "print(lst)"
   ]
  },
  {
   "cell_type": "code",
   "execution_count": null,
   "id": "ad11b905",
   "metadata": {},
   "outputs": [],
   "source": [
    "Func(np.arange(10))"
   ]
  },
  {
   "cell_type": "code",
   "execution_count": null,
   "id": "f500ae79",
   "metadata": {},
   "outputs": [],
   "source": []
  }
 ],
 "metadata": {
  "kernelspec": {
   "display_name": "Python 3 (ipykernel)",
   "language": "python",
   "name": "python3"
  },
  "language_info": {
   "codemirror_mode": {
    "name": "ipython",
    "version": 3
   },
   "file_extension": ".py",
   "mimetype": "text/x-python",
   "name": "python",
   "nbconvert_exporter": "python",
   "pygments_lexer": "ipython3",
   "version": "3.10.6"
  }
 },
 "nbformat": 4,
 "nbformat_minor": 5
}
