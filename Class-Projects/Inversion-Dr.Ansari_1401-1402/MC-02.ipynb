{
 "cells": [
  {
   "cell_type": "markdown",
   "metadata": {},
   "source": [
    "<center><h1>Montecarlo</center></h1>\n",
    "Import library"
   ]
  },
  {
   "cell_type": "code",
   "execution_count": 6,
   "metadata": {},
   "outputs": [],
   "source": [
    "import numpy as np\n",
    "import matplotlib.pyplot as plt\n",
    "from multiprocessing import Pool\n",
    "import random as rd\n",
    "# np.random.seed(0)"
   ]
  },
  {
   "cell_type": "code",
   "execution_count": 66,
   "metadata": {},
   "outputs": [],
   "source": [
    "def Func1(x):\n",
    "    return (3*x**3) - (5*x**2) + (10*x) - 67\n",
    "\n",
    "\n",
    "def Montecarlo(xlim, ylim):\n",
    "    selected_points = False\n",
    "    x_random = rd.uniform(xlim[0], xlim[1])\n",
    "    y_random = rd.uniform(ylim[0], ylim[1])\n",
    "    y_real   = Func1(x_random)\n",
    "    if min(0, y_real) < y_random < max(0, y_real):\n",
    "        selected_points = True\n",
    "    return selected_points\n",
    "        \n",
    "def Run(n):\n",
    "    return Montecarlo(xlim, ylim)"
   ]
  },
  {
   "cell_type": "code",
   "execution_count": 67,
   "metadata": {},
   "outputs": [],
   "source": [
    "n_points = 10\n",
    "xlim = [-4, 6]\n",
    "\n",
    "x = np.arange(xlim[0], xlim[1], 0.01)\n",
    "y = Func1(x=x)\n",
    "\n",
    "ylim = [y.min(), y.max()]"
   ]
  },
  {
   "cell_type": "code",
   "execution_count": 68,
   "metadata": {},
   "outputs": [
    {
     "data": {
      "text/plain": [
       "True"
      ]
     },
     "execution_count": 68,
     "metadata": {},
     "output_type": "execute_result"
    }
   ],
   "source": [
    "Montecarlo(xlim=xlim, ylim=ylim)"
   ]
  },
  {
   "cell_type": "code",
   "execution_count": 103,
   "metadata": {},
   "outputs": [
    {
     "name": "stdout",
     "output_type": "stream",
     "text": [
      "176\n",
      "43.5 ms ± 0 ns per loop (mean ± std. dev. of 1 run, 1 loop each)\n"
     ]
    }
   ],
   "source": [
    "%%timeit -r1 -n1\n",
    "n_itteration = 1000\n",
    "with Pool() as p:\n",
    "    points_under_the_curve = p.map(Run, range(n_itteration))\n",
    "\n",
    "print(sum(points_under_the_curve))"
   ]
  },
  {
   "cell_type": "code",
   "execution_count": null,
   "metadata": {},
   "outputs": [],
   "source": []
  },
  {
   "cell_type": "code",
   "execution_count": null,
   "metadata": {},
   "outputs": [],
   "source": []
  },
  {
   "cell_type": "code",
   "execution_count": null,
   "metadata": {},
   "outputs": [],
   "source": []
  },
  {
   "cell_type": "markdown",
   "metadata": {},
   "source": [
    "def Condition1(x_rand, y_rand, function):\n",
    "    y_true = function(x_rand)\n",
    "    under_curve = False\n",
    "    if (y_rand<y_true) and (y_rand>0) and (y_true>0):\n",
    "        under_curve = True\n",
    "    elif (y_rand>y_true) and (y_rand<0) and (y_true<0):\n",
    "        under_curve = True\n",
    "    return under_curve\n",
    "\n",
    "def Condition2(lowwer, points, upper):\n",
    "    under_curve = np.logical_and(minlim<y_random, y_random<maxlim)\n",
    "\n",
    "def Montecarlo(n_points, xlim, ylim):\n",
    "    x_random = np.random.uniform(low=xlim[0], high=xlim[1], size=n_points)\n",
    "    y_random = np.random.uniform(low=ylim[0], high=ylim[1], size=n_points)\n",
    "    y_true = func(x_random)\n",
    "    maxlim = y_true.copy()\n",
    "    minlim = y_true.copy()\n",
    "    maxlim[maxlim<0] = 0\n",
    "    minlim[minlim>0] = 0\n",
    "    # print(minlim.size, y_random.size, maxlim.size)\n",
    "    under_curve = np.logical_and(minlim<y_random, y_random<maxlim)\n",
    "    return under_curve.sum()"
   ]
  },
  {
   "cell_type": "code",
   "execution_count": 4,
   "metadata": {},
   "outputs": [],
   "source": [
    "class Montecarlo_class:\n",
    "    def __init__(self, n_points=None, xlim=None, func=None):\n",
    "        self.n_points = n_points\n",
    "        self.xlim = xlim\n",
    "        self.ylim = ylim\n",
    "        self.func = func\n",
    "        self.x_random = None\n",
    "        self.y_random = None\n",
    "        self.y_true = None\n",
    "        self.calc_ylim()\n",
    "    \n",
    "    def calc_ylim(self):\n",
    "        x = np.linspace(self.xlim[0], self.xlim[1], self.n_points)\n",
    "        self.y_true = self.func(x=x)\n",
    "        self.ylim = [self.y_true.min(), self.y_true.max()]\n",
    "    \n",
    "    def upper_lower_boundery(self, y_true):\n",
    "        upper = y_true.copy()\n",
    "        lower = y_true.copy()\n",
    "        upper[upper<0] = 0\n",
    "        lower[lower>0] = 0\n",
    "        return lower, upper\n",
    "    \n",
    "    def generat_random(self):\n",
    "        x_random = np.random.uniform(low=self.xlim[0], high=self.xlim[1], size=self.n_points)\n",
    "        y_random = np.random.uniform(low=self.ylim[0], high=self.ylim[1], size=self.n_points)\n",
    "        y_true = self.func(x=x_random)\n",
    "        return x_random, y_random, y_true\n",
    "    \n",
    "    def compute(self, n):\n",
    "        x_random, y_random, y_true = self.generat_random()\n",
    "        lower, upper = self.upper_lower_boundery(y_true=y_true)\n",
    "        print(y_random)\n",
    "        under_curve = np.logical_and(lower<y_random, y_random<upper)\n",
    "        return under_curve.sum()\n",
    "        \n",
    "        \n",
    "        \n",
    "\n",
    "def Montecarlo(n_points, xlim, ylim):\n",
    "    x_random = np.random.uniform(low=xlim[0], high=xlim[1], size=n_points)\n",
    "    y_random = np.random.uniform(low=ylim[0], high=ylim[1], size=n_points)\n",
    "    y_true = func(x_random)\n",
    "    maxlim = y_true.copy()\n",
    "    minlim = y_true.copy()\n",
    "    maxlim[maxlim<0] = 0\n",
    "    minlim[minlim>0] = 0\n",
    "    # print(minlim.size, y_random.size, maxlim.size)\n",
    "    under_curve = np.logical_and(minlim<y_random, y_random<maxlim)\n",
    "    return under_curve.sum()"
   ]
  },
  {
   "cell_type": "code",
   "execution_count": 5,
   "metadata": {},
   "outputs": [
    {
     "name": "stdout",
     "output_type": "stream",
     "text": [
      "[-0.23306207  0.29593321  0.23045125  1.85159114  0.12808482 -3.45112431\n",
      "  4.16275165  5.58014628  1.02423391  4.93456905]\n",
      "[-3.05929755  0.92532608 -0.62616999 -1.02480522  4.97878978  5.8520668\n",
      " -1.87517096  5.29299159  0.08915062 -1.54659586]\n",
      "[-2.35586019e+00 -2.67335373e+00  3.37822770e+00 -2.84564416e-01\n",
      " -2.84198889e-03  1.44581319e+00 -3.71507467e+00  2.67651116e+00\n",
      "  3.46771219e+00  2.80922451e+00]\n"
     ]
    }
   ],
   "source": [
    "print(np.random.uniform(low=-4, high=6, size=10))\n",
    "print(np.random.uniform(low=-4, high=6, size=10))\n",
    "print(np.random.uniform(low=-4, high=6, size=10))"
   ]
  },
  {
   "cell_type": "code",
   "execution_count": 6,
   "metadata": {},
   "outputs": [],
   "source": [
    "n_points = 10\n",
    "xlim = [-4, 6]\n",
    "\n",
    "x = np.arange(xlim[0], xlim[1], 0.01)\n",
    "y = func1(x=x)\n",
    "\n",
    "ylim = [y.min(), y.max()]"
   ]
  },
  {
   "cell_type": "code",
   "execution_count": 7,
   "metadata": {},
   "outputs": [
    {
     "name": "stdout",
     "output_type": "stream",
     "text": [
      "[ 351.41327137  -11.87128458   -2.08358724 -261.70314185 -128.08877323\n",
      "   81.36867933 -215.10565921 -142.46411808  355.51709216  161.1428609 ]\n"
     ]
    },
    {
     "data": {
      "text/plain": [
       "1"
      ]
     },
     "execution_count": 7,
     "metadata": {},
     "output_type": "execute_result"
    }
   ],
   "source": [
    "ob = Montecarlo_class(n_points=n_points, xlim=xlim, func=func1)\n",
    "ob.compute(n=1)"
   ]
  },
  {
   "cell_type": "code",
   "execution_count": 8,
   "metadata": {},
   "outputs": [
    {
     "name": "stdout",
     "output_type": "stream",
     "text": [
      "[ 412.70693134  436.23869912  -31.89645915  315.40409485  -68.87180595\n",
      "  460.38261009   27.18215832  309.06292414 -171.72843737 -348.76459723]\n",
      "0 None\n",
      "[ 416.24522348  -62.91128314 -191.12721477  330.08364154 -162.05683382\n",
      "   86.37467357  297.95574075  356.75607176  335.70692227  407.63495758]\n",
      "1 None\n",
      "[ -48.74594571  228.68635881  402.02006047 -194.93319107  319.60456111\n",
      "  109.01365661   -2.95447027  328.0036783   -55.67022521  -51.29501501]\n",
      "2 None\n",
      "[ -61.82689109  441.58733007   82.19619116  121.53999821 -293.94619903\n",
      "   30.38024646   40.76376131  215.53362485  281.12017244  193.14309841]\n",
      "3 None\n",
      "[  95.46077332  316.50352403 -250.63448534  161.06650581   67.7796827\n",
      " -200.6100741   285.30721919  181.90711949  -44.90552372  401.93647528]\n",
      "4 None\n",
      "[ 318.54268554  227.20466216  248.88973287 -292.07392906 -273.00085132\n",
      " -354.51966019 -147.84785923  107.57901694  270.06074701 -284.08819124]\n",
      "5 None\n",
      "[ -92.99152389  275.30505081   72.93553079   74.00931993  177.65114278\n",
      "  146.82496156   -8.50911223 -375.90186234  196.27598243 -300.84816782]\n",
      "6 None\n",
      "[-279.84872705  -25.92364744  240.17407678  289.02160777   66.07983954\n",
      "  -30.60943857  243.12157325  382.62398438  138.90773926  157.72281886]\n",
      "7 None\n",
      "[-250.57109419  268.11218252 -364.59165079 -199.27670294  431.51492781\n",
      " -247.62013358  323.37029887  -59.31050274  111.26654643   93.713096  ]\n",
      "8 None\n",
      "[455.41759781 429.76701015 440.87926938 345.96555591 -20.08456672\n",
      "  94.58482155 176.020846   231.44450514  61.73535519 -45.59225534]\n",
      "9 None\n"
     ]
    }
   ],
   "source": [
    "for ii in range(10):\n",
    "    ob.compute(ii)\n",
    "    print(ii, ob.y_random)"
   ]
  },
  {
   "cell_type": "code",
   "execution_count": 9,
   "metadata": {},
   "outputs": [
    {
     "name": "stdout",
     "output_type": "stream",
     "text": [
      "[ -56.48784183  -48.36066976  451.46763634   68.36907681 -191.94865742\n",
      " -184.06969401  209.71421599  381.87433751    4.15417888  225.04139152][ -56.48784183  -48.36066976  451.46763634   68.36907681 -191.94865742\n",
      " -184.06969401  209.71421599  381.87433751    4.15417888  225.04139152][ -56.48784183  -48.36066976  451.46763634   68.36907681 -191.94865742\n",
      " -184.06969401  209.71421599  381.87433751    4.15417888  225.04139152][ -56.48784183  -48.36066976  451.46763634   68.36907681 -191.94865742\n",
      " -184.06969401  209.71421599  381.87433751    4.15417888  225.04139152][ -56.48784183  -48.36066976  451.46763634   68.36907681 -191.94865742\n",
      " -184.06969401  209.71421599  381.87433751    4.15417888  225.04139152][ -56.48784183  -48.36066976  451.46763634   68.36907681 -191.94865742\n",
      " -184.06969401  209.71421599  381.87433751    4.15417888  225.04139152][ -56.48784183  -48.36066976  451.46763634   68.36907681 -191.94865742\n",
      " -184.06969401  209.71421599  381.87433751    4.15417888  225.04139152][ -56.48784183  -48.36066976  451.46763634   68.36907681 -191.94865742\n",
      " -184.06969401  209.71421599  381.87433751    4.15417888  225.04139152]\n",
      "\n",
      "\n",
      "\n",
      "\n",
      "\n",
      "\n",
      "\n",
      "3360.0\n",
      "78.6 ms ± 0 ns per loop (mean ± std. dev. of 1 run, 1 loop each)\n"
     ]
    }
   ],
   "source": [
    "%%timeit -r1 -n1\n",
    "n_itteration = 8\n",
    "with Pool(8) as p:\n",
    "    points_under_the_curve = p.map(ob.compute, range(n_itteration))\n",
    "points_under_the_curve = sum(points_under_the_curve)\n",
    "\n",
    "ration_of_points_under_the_curve = points_under_the_curve / (n_itteration*n_points)\n",
    "square_area = (ob.xlim[1]-ob.xlim[0]) * (ob.ylim[1]-ob.ylim[0])\n",
    "square_area = abs(square_area)\n",
    "area_under_the_curve = ration_of_points_under_the_curve * square_area\n",
    "print(area_under_the_curve)"
   ]
  },
  {
   "cell_type": "code",
   "execution_count": 10,
   "metadata": {},
   "outputs": [
    {
     "ename": "NameError",
     "evalue": "name 'func' is not defined",
     "output_type": "error",
     "traceback": [
      "\u001b[0;31m---------------------------------------------------------------------------\u001b[0m",
      "\u001b[0;31mNameError\u001b[0m                                 Traceback (most recent call last)",
      "\u001b[0;32m/tmp/ipykernel_59752/3405247703.py\u001b[0m in \u001b[0;36m<module>\u001b[0;34m\u001b[0m\n\u001b[0;32m----> 1\u001b[0;31m \u001b[0mresult\u001b[0m \u001b[0;34m=\u001b[0m \u001b[0mMontecarlo\u001b[0m\u001b[0;34m(\u001b[0m\u001b[0mn_points\u001b[0m\u001b[0;34m,\u001b[0m \u001b[0mxlim\u001b[0m\u001b[0;34m,\u001b[0m \u001b[0mylim\u001b[0m\u001b[0;34m)\u001b[0m\u001b[0;34m\u001b[0m\u001b[0;34m\u001b[0m\u001b[0m\n\u001b[0m\u001b[1;32m      2\u001b[0m \u001b[0mprint\u001b[0m\u001b[0;34m(\u001b[0m\u001b[0mresult\u001b[0m\u001b[0;34m)\u001b[0m\u001b[0;34m\u001b[0m\u001b[0;34m\u001b[0m\u001b[0m\n",
      "\u001b[0;32m/tmp/ipykernel_59752/1743346148.py\u001b[0m in \u001b[0;36mMontecarlo\u001b[0;34m(n_points, xlim, ylim)\u001b[0m\n\u001b[1;32m     41\u001b[0m     \u001b[0mx_random\u001b[0m \u001b[0;34m=\u001b[0m \u001b[0mnp\u001b[0m\u001b[0;34m.\u001b[0m\u001b[0mrandom\u001b[0m\u001b[0;34m.\u001b[0m\u001b[0muniform\u001b[0m\u001b[0;34m(\u001b[0m\u001b[0mlow\u001b[0m\u001b[0;34m=\u001b[0m\u001b[0mxlim\u001b[0m\u001b[0;34m[\u001b[0m\u001b[0;36m0\u001b[0m\u001b[0;34m]\u001b[0m\u001b[0;34m,\u001b[0m \u001b[0mhigh\u001b[0m\u001b[0;34m=\u001b[0m\u001b[0mxlim\u001b[0m\u001b[0;34m[\u001b[0m\u001b[0;36m1\u001b[0m\u001b[0;34m]\u001b[0m\u001b[0;34m,\u001b[0m \u001b[0msize\u001b[0m\u001b[0;34m=\u001b[0m\u001b[0mn_points\u001b[0m\u001b[0;34m)\u001b[0m\u001b[0;34m\u001b[0m\u001b[0;34m\u001b[0m\u001b[0m\n\u001b[1;32m     42\u001b[0m     \u001b[0my_random\u001b[0m \u001b[0;34m=\u001b[0m \u001b[0mnp\u001b[0m\u001b[0;34m.\u001b[0m\u001b[0mrandom\u001b[0m\u001b[0;34m.\u001b[0m\u001b[0muniform\u001b[0m\u001b[0;34m(\u001b[0m\u001b[0mlow\u001b[0m\u001b[0;34m=\u001b[0m\u001b[0mylim\u001b[0m\u001b[0;34m[\u001b[0m\u001b[0;36m0\u001b[0m\u001b[0;34m]\u001b[0m\u001b[0;34m,\u001b[0m \u001b[0mhigh\u001b[0m\u001b[0;34m=\u001b[0m\u001b[0mylim\u001b[0m\u001b[0;34m[\u001b[0m\u001b[0;36m1\u001b[0m\u001b[0;34m]\u001b[0m\u001b[0;34m,\u001b[0m \u001b[0msize\u001b[0m\u001b[0;34m=\u001b[0m\u001b[0mn_points\u001b[0m\u001b[0;34m)\u001b[0m\u001b[0;34m\u001b[0m\u001b[0;34m\u001b[0m\u001b[0m\n\u001b[0;32m---> 43\u001b[0;31m     \u001b[0my_true\u001b[0m \u001b[0;34m=\u001b[0m \u001b[0mfunc\u001b[0m\u001b[0;34m(\u001b[0m\u001b[0mx_random\u001b[0m\u001b[0;34m)\u001b[0m\u001b[0;34m\u001b[0m\u001b[0;34m\u001b[0m\u001b[0m\n\u001b[0m\u001b[1;32m     44\u001b[0m     \u001b[0mmaxlim\u001b[0m \u001b[0;34m=\u001b[0m \u001b[0my_true\u001b[0m\u001b[0;34m.\u001b[0m\u001b[0mcopy\u001b[0m\u001b[0;34m(\u001b[0m\u001b[0;34m)\u001b[0m\u001b[0;34m\u001b[0m\u001b[0;34m\u001b[0m\u001b[0m\n\u001b[1;32m     45\u001b[0m     \u001b[0mminlim\u001b[0m \u001b[0;34m=\u001b[0m \u001b[0my_true\u001b[0m\u001b[0;34m.\u001b[0m\u001b[0mcopy\u001b[0m\u001b[0;34m(\u001b[0m\u001b[0;34m)\u001b[0m\u001b[0;34m\u001b[0m\u001b[0;34m\u001b[0m\u001b[0m\n",
      "\u001b[0;31mNameError\u001b[0m: name 'func' is not defined"
     ]
    }
   ],
   "source": [
    "result = Montecarlo(n_points, xlim, ylim)\n",
    "print(result)"
   ]
  },
  {
   "cell_type": "code",
   "execution_count": null,
   "metadata": {},
   "outputs": [],
   "source": [
    "n_points = 1000\n",
    "xlim = [-4, 6]\n",
    "\n",
    "x = np.arange(xlim[0], xlim[1], 0.01)\n",
    "y = func(x=x)\n",
    "\n",
    "ylim = [y.min(), y.max()]"
   ]
  },
  {
   "cell_type": "code",
   "execution_count": null,
   "metadata": {},
   "outputs": [],
   "source": [
    "x_random = np.random.uniform(low=xlim[0], high=xlim[1], size=n_points)\n",
    "y_random = np.random.uniform(low=ylim[0], high=ylim[1], size=n_points)\n",
    "y_true = func(x_random)"
   ]
  },
  {
   "cell_type": "code",
   "execution_count": null,
   "metadata": {},
   "outputs": [],
   "source": [
    "p = x_random.argsort()\n",
    "x_random = x_random[p]\n",
    "y_random = y_random[p]\n",
    "y_true = y_true[p]"
   ]
  },
  {
   "cell_type": "code",
   "execution_count": null,
   "metadata": {},
   "outputs": [],
   "source": [
    "%%timeit -r1 -n1\n",
    "mask = y_true > 0\n",
    "positive = y_random[mask] < y_true[mask]\n",
    "positive = y_random[mask][positive]\n",
    "positive = positive > 0\n",
    "\n",
    "mask = y_true < 0\n",
    "negative = y_random[mask] > y_true[mask]\n",
    "negative = y_random[mask][negative]\n",
    "negative = negative < 0\n",
    "\n",
    "n_points_under_curve = positive.sum() + negative.sum()\n",
    "print(n_points_under_curve)"
   ]
  },
  {
   "cell_type": "code",
   "execution_count": null,
   "metadata": {},
   "outputs": [],
   "source": [
    "def und_ovr(x_rand, y_rand, function):\n",
    "    y_true = function(x_rand)\n",
    "    under_curve = False\n",
    "    if (y_rand<y_true) and (y_rand>0) and (y_true>0):\n",
    "        under_curve = True\n",
    "    elif (y_rand>y_true) and (y_rand<0) and (y_true<0):\n",
    "        under_curve = True\n",
    "    return under_curve\n",
    "\n",
    "def und_ovr_s(x_rand, y_rand, function):\n",
    "    results = []\n",
    "    for _x, _y in zip(x_rand, y_rand):\n",
    "        result = und_ovr(_x, _y, function)\n",
    "        results.append(result)\n",
    "    return(results)"
   ]
  },
  {
   "cell_type": "code",
   "execution_count": null,
   "metadata": {},
   "outputs": [],
   "source": [
    "%%timeit -r1 -n1\n",
    "n_points_under_curve = 0\n",
    "for xr, yr in zip(x_random, y_random):\n",
    "    if und_ovr(function=func1, x_rand=xr, y_rand=yr):\n",
    "        n_points_under_curve += 1\n",
    "print(n_points_under_curve)"
   ]
  },
  {
   "cell_type": "code",
   "execution_count": null,
   "metadata": {},
   "outputs": [],
   "source": [
    "[(func1, x, y) for x, y in zip(x_random, y_random)]"
   ]
  },
  {
   "cell_type": "code",
   "execution_count": null,
   "metadata": {},
   "outputs": [],
   "source": [
    "%%timeit -r1 -n1\n",
    "with Pool() as p:\n",
    "    y_true = p.map(func, x_random)\n",
    "    n_points_under_curve = p.map(und_ovr_s, [(func1, x, y) for x, y in zip(x_random, y_random)])\n",
    "print(n_points_under_curve)"
   ]
  },
  {
   "cell_type": "code",
   "execution_count": null,
   "metadata": {},
   "outputs": [],
   "source": [
    "area_of_square = (xlim[1]-xlim[0]) * (ylim[1]-ylim[0])\n",
    "area_under_curve = (n_points_under_curve/n_points) * area_of_square"
   ]
  },
  {
   "cell_type": "code",
   "execution_count": null,
   "metadata": {},
   "outputs": [],
   "source": [
    "print(f'Area under the curve: {area_under_curve:.2f}')\n",
    "plt.plot(x, y, 'r')\n",
    "plt.hlines(0, -4, 6, 'k')\n",
    "plt.scatter(x_random, y_random)\n",
    "plt.fill_between(x=x_random,\n",
    "                 y1=0,\n",
    "                 y2=y_true,\n",
    "                 color='green', alpha=0.5)\n",
    "plt.show()"
   ]
  },
  {
   "cell_type": "code",
   "execution_count": null,
   "metadata": {},
   "outputs": [],
   "source": []
  }
 ],
 "metadata": {
  "kernelspec": {
   "display_name": "Python 3",
   "language": "python",
   "name": "python3"
  },
  "language_info": {
   "codemirror_mode": {
    "name": "ipython",
    "version": 3
   },
   "file_extension": ".py",
   "mimetype": "text/x-python",
   "name": "python",
   "nbconvert_exporter": "python",
   "pygments_lexer": "ipython3",
   "version": "3.8.10"
  }
 },
 "nbformat": 4,
 "nbformat_minor": 4
}
