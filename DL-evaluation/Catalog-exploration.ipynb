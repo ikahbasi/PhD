{
 "cells": [
  {
   "cell_type": "code",
   "execution_count": null,
   "metadata": {
    "metadata": {}
   },
   "outputs": [],
   "source": [
    "from obspy import read_events\n",
    "from obspy import UTCDateTime as utc\n",
    "import seaborn as sns\n",
    "import SeisRoutine as sr\n",
    "import pandas as pd\n",
    "import configparser as cnfp\n"
   ]
  },
  {
   "cell_type": "code",
   "execution_count": null,
   "metadata": {},
   "outputs": [],
   "source": [
    "def DMM2DD(minute_second):\n",
    "    '''\n",
    "    convert coordinate: `Degrees°.decimal_minutes ---> Decimal.degrees\n",
    "                         2245.45                  ---> 22.7575\n",
    "    '''\n",
    "    minute_second = minute_second.replace('N', '')\n",
    "    minute_second = minute_second.replace('E', '')\n",
    "    minute = int(minute_second[0:2])\n",
    "    second = float(minute_second[2:])\n",
    "    decimal = minute + second/60\n",
    "    return decimal"
   ]
  },
  {
   "cell_type": "code",
   "execution_count": null,
   "metadata": {},
   "outputs": [],
   "source": [
    "config_path = 'config.ini'\n",
    "config = cnfp.ConfigParser(interpolation=cnfp.ExtendedInterpolation())\n",
    "config.read(config_path)\n",
    "\n",
    "residual_name_pattern = config.get('File.Name.Pattern', 'residual')\n",
    "path_residuals = config.get('Path', 'residuals')\n",
    "path_picks = config.get('Path', 'picks')\n",
    "city = Data_name = config.get('General', 'name')\n",
    "path_plot = config.get('Path', 'plots')\n",
    "path_catalog = config.get('Path', 'catalog')\n",
    "path_coords = config.get('Path', 'coordinate')"
   ]
  },
  {
   "cell_type": "code",
   "execution_count": null,
   "metadata": {
    "metadata": {}
   },
   "outputs": [],
   "source": [
    "catalog = read_events(path_catalog)\n",
    "cat = catalog.filter('used_station_count > 0')"
   ]
  },
  {
   "cell_type": "code",
   "execution_count": null,
   "metadata": {},
   "outputs": [],
   "source": [
    "print(cat)"
   ]
  },
  {
   "cell_type": "code",
   "execution_count": null,
   "metadata": {},
   "outputs": [],
   "source": [
    "coords = pd.read_csv(path_coords)\n",
    "coords['latitude'] = coords['latitude'].apply(DMM2DD)\n",
    "coords['longitude'] = coords['longitude'].apply(DMM2DD)\n",
    "# print(coords)"
   ]
  },
  {
   "cell_type": "code",
   "execution_count": null,
   "metadata": {
    "metadata": {}
   },
   "outputs": [],
   "source": [
    "insp = sr.inspector.catalog(cat=cat)\n",
    "print(insp)"
   ]
  },
  {
   "cell_type": "code",
   "execution_count": null,
   "metadata": {},
   "outputs": [],
   "source": [
    "# msk = insp.df_phases['phase_hint'].apply(lambda x:x=='')\n",
    "# insp.df_phases = insp.df_phases[~msk]\n",
    "\n",
    "\n",
    "# msk = insp.df_phases['time_residual'].isna()\n",
    "# insp.df_phases = insp.df_phases[~msk]\n",
    "# insp.df_phases = insp.df_phases.reset_index()"
   ]
  },
  {
   "cell_type": "code",
   "execution_count": null,
   "metadata": {
    "metadata": {}
   },
   "outputs": [],
   "source": [
    "insp.df_events['otime'][0].datetime"
   ]
  },
  {
   "cell_type": "code",
   "execution_count": null,
   "metadata": {
    "metadata": {}
   },
   "outputs": [],
   "source": [
    "insp.plot_seismicity_events()\n"
   ]
  },
  {
   "cell_type": "code",
   "execution_count": null,
   "metadata": {
    "metadata": {}
   },
   "outputs": [],
   "source": [
    "insp.plot_seismicity_phases()"
   ]
  },
  {
   "cell_type": "code",
   "execution_count": null,
   "metadata": {
    "metadata": {}
   },
   "outputs": [],
   "source": [
    "insp.plot_residual_vs_distance(kind='density',\n",
    "                               ystep=0.2, xstep=1.0,\n",
    "                               histlog=True, figsize=(8, 4),\n",
    "                               ylim=[-5, 5], xlim=[0, 60],\n",
    "                               title=f'Catalog-exploration-{city}',\n",
    "                               save=True,\n",
    "                               savefile=f'Catalog-exploration-density-{city}.png')"
   ]
  },
  {
   "cell_type": "code",
   "execution_count": null,
   "metadata": {},
   "outputs": [],
   "source": [
    "insp.plot_residual_vs_distance(kind='normal',\n",
    "                               ystep=0.01,\n",
    "                               histlog=True, figsize=(8, 4),\n",
    "                               ylim=[-5, 5], xlim=[0, 60],\n",
    "                               title=f'Catalog-exploration-{city}',\n",
    "                               save=True,\n",
    "                               savefile=f'Catalog-exploration-{city}.png')"
   ]
  },
  {
   "cell_type": "code",
   "execution_count": null,
   "metadata": {
    "metadata": {}
   },
   "outputs": [],
   "source": [
    "insp.plot_station_participation(coords, map_focus='stations', figsize=(8 , 6),\n",
    "                                save=True,\n",
    "                                title=city,\n",
    "                                savefile=f'./Catalog-exploration-{city}-station_participation.png')"
   ]
  },
  {
   "cell_type": "code",
   "execution_count": null,
   "metadata": {
    "metadata": {}
   },
   "outputs": [],
   "source": [
    "insp.plot_hist_SminusP(bins=50, size=(7, 5),\n",
    "                       title=f'Catalog-exploration-{city}_S-P',\n",
    "                       save=True,\n",
    "                       savefile=f'Catalog-exploration-{city}_S-P.png')"
   ]
  },
  {
   "cell_type": "code",
   "execution_count": null,
   "metadata": {
    "metadata": {}
   },
   "outputs": [],
   "source": [
    "insp.plot_bar_phasetype(title=f'Catalog-exploration-{city}_catalog-phasetype',\n",
    "                       save=True,\n",
    "                       savefile=f'Catalog-exploration-{city}_catalog-phasetype.png')"
   ]
  },
  {
   "cell_type": "code",
   "execution_count": null,
   "metadata": {
    "metadata": {}
   },
   "outputs": [],
   "source": [
    "insp.plot_traveltime(title=f'{city}_TravelTime',\n",
    "                       save=True,\n",
    "                       savefile=f'{city}__TravelTime.png',\n",
    "                       xlim=[-1, 100], ylim=[0, 35])"
   ]
  },
  {
   "cell_type": "code",
   "execution_count": null,
   "metadata": {
    "metadata": {}
   },
   "outputs": [],
   "source": [
    "insp.plot_hist_of_numeric(figsize=(8, 6), bins=30, edgecolor='k')"
   ]
  },
  {
   "cell_type": "code",
   "execution_count": null,
   "metadata": {
    "metadata": {}
   },
   "outputs": [],
   "source": [
    "insp.plot_pie_of_none_numeric()"
   ]
  },
  {
   "cell_type": "code",
   "execution_count": null,
   "metadata": {
    "metadata": {}
   },
   "outputs": [],
   "source": [
    "insp.plot_bar_of_none_numeric(figsize=(10, 4))"
   ]
  },
  {
   "cell_type": "code",
   "execution_count": null,
   "metadata": {
    "metadata": {}
   },
   "outputs": [],
   "source": [
    "insp.plot_phase_mag_dist(title=f'Catalog-exploration-{city}_mag-dist',\n",
    "                       save=True,\n",
    "                       savefile=f'Catalog-exploration-{city}_mag-dist.png')"
   ]
  },
  {
   "cell_type": "code",
   "execution_count": null,
   "metadata": {},
   "outputs": [],
   "source": []
  }
 ],
 "metadata": {
  "kernelspec": {
   "display_name": "Mooc2023",
   "language": "python",
   "name": "python3"
  },
  "language_info": {
   "codemirror_mode": {
    "name": "ipython",
    "version": 3
   },
   "file_extension": ".py",
   "mimetype": "text/x-python",
   "name": "python",
   "nbconvert_exporter": "python",
   "pygments_lexer": "ipython3",
   "version": "3.10.14"
  }
 },
 "nbformat": 4,
 "nbformat_minor": 2
}
